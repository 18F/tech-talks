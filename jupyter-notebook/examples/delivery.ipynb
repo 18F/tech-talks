{
 "cells": [
  {
   "cell_type": "markdown",
   "metadata": {},
   "source": [
    "## JSON to user"
   ]
  },
  {
   "cell_type": "markdown",
   "metadata": {
    "collapsed": true
   },
   "source": [
    "<table>  <tr><th><th>Description</th></th><th>Power</th>\n",
    "             <th>Ease for user</th><th>Ease for you</th></tr>\n",
    "  <tr><td><a href=\"https://ipython.org/ipython-doc/3/notebook/nbconvert.html\">jupyter nbconvert</a></td><td>Generate static HTML from notebook</td>\n",
    "      <td class=\"rating power\">+</td>\n",
    "      <td class=\"rating user-ease\">+++</td>\n",
    "      <td class=\"rating dev-ease\">++</td>\n",
    "  </tr>\n",
    "  <tr><td><a href=\"http://nbviewer.ipython.org\">nbviewer</a></td><td>Renders from a JSON URL</td>\n",
    "      <td class=\"rating power\">+</td>\n",
    "      <td class=\"rating user-ease\">+++</td>\n",
    "      <td class=\"rating dev-ease\">+++</td>\n",
    "  </tr>\n",
    "  <tr><td>GitHub</td>\n",
    "      <td>Automatic rendering at GitHub URL</td>\n",
    "      <td class=\"rating power\">+</td>\n",
    "      <td class=\"rating user-ease\">+++</td>\n",
    "      <td class=\"rating dev-ease\">++++</td>\n",
    "  </tr>\n",
    "    <tr><td>Download link</td><td>From any rendered notebook</td>\n",
    "      <td class=\"rating power\">++++</td>\n",
    "      <td class=\"rating user-ease\">+</td>\n",
    "      <td class=\"rating dev-ease\">+++</td>\n",
    "  </tr>\n",
    "  <tr><td>Commercially hosted</td><td><a href=\"https://wakari.io/\">Wakari</a>, etc.</td>\n",
    "      <td class=\"rating power\">+++</td>\n",
    "      <td class=\"rating user-ease\">+++</td>\n",
    "      <td class=\"rating dev-ease\">+++</td>\n",
    "  </tr>\n",
    "  \n",
    "    <tr><td><a href=\"http://jupyter-notebook.readthedocs.org/en/latest/public_server.html\">Notebook server</a></td><td></td>\n",
    "      <td class=\"rating power\">+++</td>\n",
    "      <td class=\"rating user-ease\">+++</td>\n",
    "      <td class=\"rating dev-ease\">++</td>\n",
    "  </tr> \n",
    "  \n",
    "  </tr>\n",
    "    <tr><td>[tmpnb](https://github.com/jupyter/tmpnb)\n",
    "            <a href=\"https://try.jupyter.org/\">(try.jupyter.org)</a></td>\n",
    "      <td>Dockerized notebook server per connection</td>\n",
    "      <td class=\"rating power\">+++</td>\n",
    "      <td class=\"rating user-ease\">+++</td>\n",
    "      <td class=\"rating dev-ease\">++</td>\n",
    "  </tr> \n",
    "  \n",
    "    <tr><td><a href=\"https://oreillymedia.github.io/thebe/\">Thebe</a></td><td>Connects HTML to notebook server</td>\n",
    "      <td class=\"rating power\">+++</td>\n",
    "      <td class=\"rating user-ease\">+++</td>\n",
    "      <td class=\"rating dev-ease\">++</td>\n",
    "  </tr>\n",
    "    <tr><td><a href=\"https://ipython.org/ipython-doc/3/notebook/nbconvert.html\">jupyter convert --to slides</a></td><td>S5</td>\n",
    "      <td class=\"rating power\">+</td>\n",
    "      <td class=\"rating user-ease\">++++</td>\n",
    "      <td class=\"rating dev-ease\">+++</td>\n",
    "  </tr>\n",
    "    <tr><td><a href=\"https://github.com/damianavila/RISE\">RISE</a></td><td>S5 with executable cells</td>\n",
    "      <td class=\"rating power\">+++</td>\n",
    "      <td class=\"rating user-ease\">++++</td>\n",
    "      <td class=\"rating dev-ease\">++</td>\n",
    "  </tr>\n",
    "</table>"
   ]
  },
  {
   "cell_type": "markdown",
   "metadata": {},
   "source": [
    "## Packaged"
   ]
  },
  {
   "cell_type": "markdown",
   "metadata": {},
   "source": [
    "[Anaconda](http://continuum.io/downloads), [Enthought Canopy](https://www.enthought.com/products/canopy/)"
   ]
  },
  {
   "cell_type": "code",
   "execution_count": null,
   "metadata": {
    "collapsed": true
   },
   "outputs": [],
   "source": []
  }
 ],
 "metadata": {
  "kernelspec": {
   "display_name": "Python 3",
   "language": "python",
   "name": "python3"
  },
  "language_info": {
   "codemirror_mode": {
    "name": "ipython",
    "version": 3
   },
   "file_extension": ".py",
   "mimetype": "text/x-python",
   "name": "python",
   "nbconvert_exporter": "python",
   "pygments_lexer": "ipython3",
   "version": "3.4.3"
  }
 },
 "nbformat": 4,
 "nbformat_minor": 0
}
