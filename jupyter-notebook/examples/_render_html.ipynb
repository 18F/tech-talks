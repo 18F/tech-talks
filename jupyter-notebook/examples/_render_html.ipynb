{
 "cells": [
  {
   "cell_type": "code",
   "execution_count": 43,
   "metadata": {
    "collapsed": false
   },
   "outputs": [],
   "source": [
    "class TeamMember(object):\n",
    "    def __init__(self, name, office):\n",
    "        self.name = name\n",
    "        self.office = office\n",
    "        \n",
    "    def __repr__(self):\n",
    "        return \"TeamMember('%s', '%s')\" % (self.name, self.office)\n",
    "    \n",
    "    def __str__(self):\n",
    "        return \"%s (%s)\" % (self.name, self.office)"
   ]
  },
  {
   "cell_type": "code",
   "execution_count": 46,
   "metadata": {
    "collapsed": true
   },
   "outputs": [],
   "source": [
    "becky = TeamMember('Becky', 'Mass')"
   ]
  },
  {
   "cell_type": "code",
   "execution_count": 47,
   "metadata": {
    "collapsed": false
   },
   "outputs": [
    {
     "data": {
      "text/plain": [
       "TeamMember('Becky', 'Mass')"
      ]
     },
     "execution_count": 47,
     "metadata": {},
     "output_type": "execute_result"
    }
   ],
   "source": [
    "becky"
   ]
  },
  {
   "cell_type": "code",
   "execution_count": 48,
   "metadata": {
    "collapsed": false
   },
   "outputs": [
    {
     "name": "stdout",
     "output_type": "stream",
     "text": [
      "Becky (Mass)\n"
     ]
    }
   ],
   "source": [
    "print(becky)"
   ]
  },
  {
   "cell_type": "code",
   "execution_count": 74,
   "metadata": {
    "collapsed": true
   },
   "outputs": [],
   "source": [
    "class TeamMember(object):\n",
    "    def __init__(self, name, office):\n",
    "        self.name = name\n",
    "        self.office = office\n",
    "        \n",
    "    def __repr__(self):\n",
    "        return \"TeamMember('%s', '%s')\" % (self.name, self.office)\n",
    "    \n",
    "    def __str__(self):\n",
    "        return \"%s (%s)\" % (self.name, self.office)\n",
    "    \n",
    "    def _repr_html_(self):\n",
    "        return '''<span class=\"name\" style=\"color: blue;\">%s</span> \n",
    "                  <img src=\"%s.png\" width=\"200px\" />''' % (\n",
    "            self.name, self.office)"
   ]
  },
  {
   "cell_type": "code",
   "execution_count": 78,
   "metadata": {
    "collapsed": true
   },
   "outputs": [],
   "source": [
    "becky = TeamMember('Becky', 'mass')\n",
    "catherine = TeamMember('Catherine', 'ohio')"
   ]
  },
  {
   "cell_type": "code",
   "execution_count": 79,
   "metadata": {
    "collapsed": false
   },
   "outputs": [
    {
     "data": {
      "text/html": [
       "<span class=\"name\" style=\"color: blue;\">Becky</span> \n",
       "                  <img src=\"mass.png\" width=\"200px\" />"
      ],
      "text/plain": [
       "TeamMember('Becky', 'mass')"
      ]
     },
     "execution_count": 79,
     "metadata": {},
     "output_type": "execute_result"
    }
   ],
   "source": [
    "becky"
   ]
  },
  {
   "cell_type": "code",
   "execution_count": 80,
   "metadata": {
    "collapsed": false
   },
   "outputs": [
    {
     "data": {
      "text/html": [
       "<span class=\"name\" style=\"color: blue;\">Catherine</span> \n",
       "                  <img src=\"ohio.png\" width=\"200px\" />"
      ],
      "text/plain": [
       "TeamMember('Catherine', 'ohio')"
      ]
     },
     "execution_count": 80,
     "metadata": {},
     "output_type": "execute_result"
    }
   ],
   "source": [
    "catherine"
   ]
  },
  {
   "cell_type": "code",
   "execution_count": 81,
   "metadata": {
    "collapsed": false
   },
   "outputs": [
    {
     "data": {
      "text/html": [
       "<span class=\"name\" style=\"color: blue;\">Becky</span> \n",
       "                  <img src=\"dc.png\" width=\"200px\" />"
      ],
      "text/plain": [
       "TeamMember('Becky', 'dc')"
      ]
     },
     "execution_count": 81,
     "metadata": {},
     "output_type": "execute_result"
    }
   ],
   "source": [
    "becky.office = 'dc'\n",
    "becky"
   ]
  },
  {
   "cell_type": "code",
   "execution_count": null,
   "metadata": {
    "collapsed": true
   },
   "outputs": [],
   "source": []
  },
  {
   "cell_type": "code",
   "execution_count": null,
   "metadata": {
    "collapsed": true
   },
   "outputs": [],
   "source": []
  }
 ],
 "metadata": {
  "kernelspec": {
   "display_name": "Python 3",
   "language": "python",
   "name": "python3"
  },
  "language_info": {
   "codemirror_mode": {
    "name": "ipython",
    "version": 3
   },
   "file_extension": ".py",
   "mimetype": "text/x-python",
   "name": "python",
   "nbconvert_exporter": "python",
   "pygments_lexer": "ipython3",
   "version": "3.4.3"
  }
 },
 "nbformat": 4,
 "nbformat_minor": 0
}
