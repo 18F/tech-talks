{
 "cells": [
  {
   "cell_type": "markdown",
   "metadata": {
    "slideshow": {
     "slide_type": "slide"
    }
   },
   "source": [
    "# Cell types"
   ]
  },
  {
   "cell_type": "markdown",
   "metadata": {
    "slideshow": {
     "slide_type": "slide"
    }
   },
   "source": [
    "\n",
    "## Markdown"
   ]
  },
  {
   "cell_type": "markdown",
   "metadata": {
    "slideshow": {
     "slide_type": "fragment"
    }
   },
   "source": [
    "Use all of [Markdown](http://daringfireball.net/projects/markdown/)'s\n",
    "\n",
    "- convenience\n",
    "- plaintext goodness\n",
    "\n",
    "<span style=\"font-family:'Comic Sans MS'\">superset of HTML</span>"
   ]
  },
  {
   "cell_type": "markdown",
   "metadata": {
    "slideshow": {
     "slide_type": "slide"
    }
   },
   "source": [
    "## Code"
   ]
  },
  {
   "cell_type": "code",
   "execution_count": 1,
   "metadata": {
    "collapsed": false,
    "slideshow": {
     "slide_type": "fragment"
    }
   },
   "outputs": [
    {
     "name": "stdout",
     "output_type": "stream",
     "text": [
      "1\n",
      "8\n",
      "F\n"
     ]
    }
   ],
   "source": [
    "for letter in '18f':\n",
    "    print(letter.upper())"
   ]
  },
  {
   "cell_type": "code",
   "execution_count": 2,
   "metadata": {
    "collapsed": false,
    "slideshow": {
     "slide_type": "subslide"
    }
   },
   "outputs": [
    {
     "name": "stdout",
     "output_type": "stream",
     "text": [
      "also a language, I hear\n"
     ]
    }
   ],
   "source": [
    "%%ruby\n",
    "puts 'also a language, I hear'"
   ]
  },
  {
   "cell_type": "markdown",
   "metadata": {
    "slideshow": {
     "slide_type": "slide"
    }
   },
   "source": [
    "### halp"
   ]
  },
  {
   "cell_type": "code",
   "execution_count": null,
   "metadata": {
    "collapsed": true,
    "slideshow": {
     "slide_type": "fragment"
    }
   },
   "outputs": [],
   "source": [
    "letter."
   ]
  },
  {
   "cell_type": "code",
   "execution_count": 3,
   "metadata": {
    "collapsed": true,
    "slideshow": {
     "slide_type": "fragment"
    }
   },
   "outputs": [],
   "source": [
    "letter.upper?"
   ]
  },
  {
   "cell_type": "markdown",
   "metadata": {
    "slideshow": {
     "slide_type": "slide"
    }
   },
   "source": [
    "### OS integration"
   ]
  },
  {
   "cell_type": "code",
   "execution_count": 4,
   "metadata": {
    "collapsed": false,
    "slideshow": {
     "slide_type": "fragment"
    }
   },
   "outputs": [
    {
     "name": "stdout",
     "output_type": "stream",
     "text": [
      "R-EITI.ipynb        dc.png              mass.png            thebe.html\r\n",
      "_render_html.ipynb  delivery.ipynb      ohio.png            tour.ipynb\r\n"
     ]
    }
   ],
   "source": [
    "ls"
   ]
  },
  {
   "cell_type": "code",
   "execution_count": 6,
   "metadata": {
    "collapsed": false,
    "slideshow": {
     "slide_type": "slide"
    }
   },
   "outputs": [],
   "source": [
    "directory_contents =! ls"
   ]
  },
  {
   "cell_type": "code",
   "execution_count": 7,
   "metadata": {
    "collapsed": false,
    "slideshow": {
     "slide_type": "fragment"
    }
   },
   "outputs": [
    {
     "data": {
      "text/plain": [
       "['R-EITI.ipynb',\n",
       " '_render_html.ipynb',\n",
       " 'dc.png',\n",
       " 'delivery.ipynb',\n",
       " 'mass.png',\n",
       " 'ohio.png',\n",
       " 'thebe.html',\n",
       " 'tour.ipynb']"
      ]
     },
     "execution_count": 7,
     "metadata": {},
     "output_type": "execute_result"
    }
   ],
   "source": [
    "directory_contents"
   ]
  },
  {
   "cell_type": "code",
   "execution_count": null,
   "metadata": {
    "collapsed": true,
    "slideshow": {
     "slide_type": "fragment"
    }
   },
   "outputs": [],
   "source": [
    "infile = open(\"thebe.html\")"
   ]
  },
  {
   "cell_type": "markdown",
   "metadata": {
    "slideshow": {
     "slide_type": "slide"
    }
   },
   "source": [
    "### Rich output"
   ]
  },
  {
   "cell_type": "code",
   "execution_count": 8,
   "metadata": {
    "collapsed": true,
    "slideshow": {
     "slide_type": "slide"
    }
   },
   "outputs": [],
   "source": [
    "import requests\n",
    "import json\n",
    "import pprint\n",
    "from collections import OrderedDict"
   ]
  },
  {
   "cell_type": "code",
   "execution_count": 9,
   "metadata": {
    "collapsed": false,
    "slideshow": {
     "slide_type": "slide"
    }
   },
   "outputs": [
    {
     "name": "stdout",
     "output_type": "stream",
     "text": [
      "{'BUSH, JEB': ('Republican Party', 11429897.64),\n",
      " 'CARSON, BENJAMIN S SR MD': ('Republican Party', 10642242.1),\n",
      " 'CLINTON, HILLARY RODHAM': ('Democratic Party', 47549949.64),\n",
      " 'CRUZ, RAFAEL EDWARD \"TED\"': ('Republican Party', 14349160.55),\n",
      " 'GRAHAM, LINDSEY O': ('Republican Party', 3709552.93),\n",
      " 'PAUL, RAND': ('Republican Party', 6932779.14),\n",
      " 'RUBIO, MARCO': ('Republican Party', 8876868.37),\n",
      " 'SANDERS, BERNARD': ('Democratic Party', 15247353.43)}\n"
     ]
    }
   ],
   "source": [
    "API_KEY='BB9hUQSjvfTW1nb7BFRWmrlyrEbMGmrihfFvpDbq'\n",
    "REQUEST_URL='https://api.open.fec.gov/v1/elections/?api_key=%s&page=1&per_page=20&office=president&cycle=2016&sort=-total_receipts' % API_KEY\n",
    "\n",
    "response = requests.get(REQUEST_URL)\n",
    "\n",
    "data = json.loads(response.text)\n",
    "receipts = {c['candidate_name']: (c['party_full'], c['total_receipts']) \n",
    "            for c in data['results']\n",
    "            if c['total_receipts'] > 3000000}\n",
    "pprint.pprint(receipts)\n",
    "names = sorted(receipts)\n",
    "totals = [receipts[n][1] for n in names]\n",
    "parties = [receipts[n][0] for n in names]\n",
    "colors = ['r' if p == 'Republican Party' else 'b' for p in parties]\n",
    "idx = range(len(names))"
   ]
  },
  {
   "cell_type": "code",
   "execution_count": 10,
   "metadata": {
    "collapsed": true,
    "slideshow": {
     "slide_type": "slide"
    }
   },
   "outputs": [],
   "source": [
    "%matplotlib inline"
   ]
  },
  {
   "cell_type": "code",
   "execution_count": 11,
   "metadata": {
    "collapsed": true,
    "slideshow": {
     "slide_type": "fragment"
    }
   },
   "outputs": [],
   "source": [
    "import matplotlib.pyplot as plt"
   ]
  },
  {
   "cell_type": "code",
   "execution_count": 12,
   "metadata": {
    "collapsed": false,
    "slideshow": {
     "slide_type": "slide"
    }
   },
   "outputs": [
    {
     "data": {
      "text/plain": [
       "([<matplotlib.axis.XTick at 0x10893dc50>,\n",
       "  <matplotlib.axis.XTick at 0x1089366a0>,\n",
       "  <matplotlib.axis.XTick at 0x10893d7f0>,\n",
       "  <matplotlib.axis.XTick at 0x108a4f048>,\n",
       "  <matplotlib.axis.XTick at 0x108a4fa58>,\n",
       "  <matplotlib.axis.XTick at 0x108a524a8>,\n",
       "  <matplotlib.axis.XTick at 0x108a52eb8>,\n",
       "  <matplotlib.axis.XTick at 0x108a56908>],\n",
       " <a list of 8 Text xticklabel objects>)"
      ]
     },
     "execution_count": 12,
     "metadata": {},
     "output_type": "execute_result"
    },
    {
     "data": {
      "image/png": "[encoded data removed]",
      "text/plain": [
       "<matplotlib.figure.Figure at 0x10892a748>"
      ]
     },
     "metadata": {},
     "output_type": "display_data"
    }
   ],
   "source": [
    "recpt = receipts.items\n",
    "plt.bar(idx, totals, align='center', color=colors)\n",
    "plt.xticks(idx, names, rotation='vertical')"
   ]
  }
 ],
 "metadata": {
  "celltoolbar": "Slideshow",
  "kernelspec": {
   "display_name": "Python 3",
   "language": "python",
   "name": "python3"
  },
  "language_info": {
   "codemirror_mode": {
    "name": "ipython",
    "version": 3
   },
   "file_extension": ".py",
   "mimetype": "text/x-python",
   "name": "python",
   "nbconvert_exporter": "python",
   "pygments_lexer": "ipython3",
   "version": "3.4.3"
  }
 },
 "nbformat": 4,
 "nbformat_minor": 0
}
