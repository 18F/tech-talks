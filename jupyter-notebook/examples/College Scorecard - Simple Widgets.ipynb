{
 "cells": [
  {
   "cell_type": "markdown",
   "metadata": {},
   "source": [
    "# IPython Simple Widgets\n",
    "\n",
    "Create a few simple, interactive plots using the Seaborn visualization library and IPython widgets. These examples use the newly-released [College Scorecard Data](https://collegescorecard.ed.gov/data/ \"College Scorecard Data\").\n",
    "\n",
    "Notes:\n",
    "* This is not any kind of rigorous analysis of the College Scorecard data. It's just pulling a few elements that were convenient for showing simple charts and demonstrating IPython widgets.\n",
    "* To enable the plots' interactivity, [run a local copy of the notebook](../INSTALL.md \"Installation instructions\"). The version rendered on GitHub isn't interactive."
   ]
  },
  {
   "cell_type": "markdown",
   "metadata": {},
   "source": [
    "## Housekeeping\n",
    "* set file names\n",
    "* override the default CSS\n",
    "* import libraries for plotting and widgets"
   ]
  },
  {
   "cell_type": "code",
   "execution_count": 1,
   "metadata": {
    "collapsed": false
   },
   "outputs": [],
   "source": [
    "#files\n",
    "EARNINGS_FILE = 'https://s3.amazonaws.com/ed-college-choice-public/Most+Recent+Cohorts+(Treasury+Elements).csv'\n",
    "SCORECARD_FILE = 'https://s3.amazonaws.com/ed-college-choice-public/Most+Recent+Cohorts+(Scorecard+Elements).csv'\n",
    "DATA_DICTIONARY_FILE = 'https://collegescorecard.ed.gov/assets/CollegeScorecardDataDictionary-09-08-2015.csv'\n",
    "\n",
    "#some custom CSS\n",
    "from IPython.core.display import HTML\n",
    "styles = open(\"css/presentation.css\", \"r\").read()\n",
    "HTML(styles)\n",
    "\n",
    "#plotting and widget libraries\n",
    "%matplotlib inline\n",
    "import pandas as pd\n",
    "import numpy as np\n",
    "import ipywidgets as widgets\n",
    "from ipywidgets import interactive\n",
    "from IPython.display import display\n",
    "import seaborn as sns"
   ]
  },
  {
   "cell_type": "markdown",
   "metadata": {},
   "source": [
    "## Get Scorecard\n",
    "This is a pretty wide .csv, so we'll only grab the fields used in this notebook:"
   ]
  },
  {
   "cell_type": "code",
   "execution_count": 2,
   "metadata": {
    "collapsed": false
   },
   "outputs": [
    {
     "data": {
      "text/html": [
       "<div>\n",
       "<table border=\"1\" class=\"dataframe\">\n",
       "  <thead>\n",
       "    <tr style=\"text-align: right;\">\n",
       "      <th></th>\n",
       "      <th>0</th>\n",
       "      <th>1</th>\n",
       "      <th>2</th>\n",
       "    </tr>\n",
       "  </thead>\n",
       "  <tbody>\n",
       "    <tr>\n",
       "      <th>id</th>\n",
       "      <td>100654</td>\n",
       "      <td>100663</td>\n",
       "      <td>100690</td>\n",
       "    </tr>\n",
       "    <tr>\n",
       "      <th>InstitutionName</th>\n",
       "      <td>Alabama A &amp; M University</td>\n",
       "      <td>University of Alabama at Birmingham</td>\n",
       "      <td>Amridge University</td>\n",
       "    </tr>\n",
       "    <tr>\n",
       "      <th>City</th>\n",
       "      <td>Normal</td>\n",
       "      <td>Birmingham</td>\n",
       "      <td>Montgomery</td>\n",
       "    </tr>\n",
       "    <tr>\n",
       "      <th>State</th>\n",
       "      <td>AL</td>\n",
       "      <td>AL</td>\n",
       "      <td>AL</td>\n",
       "    </tr>\n",
       "    <tr>\n",
       "      <th>PredominantDegreeAwarded</th>\n",
       "      <td>3</td>\n",
       "      <td>3</td>\n",
       "      <td>3</td>\n",
       "    </tr>\n",
       "    <tr>\n",
       "      <th>Ownership</th>\n",
       "      <td>public</td>\n",
       "      <td>public</td>\n",
       "      <td>private non-profit</td>\n",
       "    </tr>\n",
       "    <tr>\n",
       "      <th>CompleteMedianDebtSuppressed</th>\n",
       "      <td>33611.5</td>\n",
       "      <td>23117</td>\n",
       "      <td>NaN</td>\n",
       "    </tr>\n",
       "    <tr>\n",
       "      <th>MedianEarningsWorking10Years</th>\n",
       "      <td>31400</td>\n",
       "      <td>40300</td>\n",
       "      <td>38100</td>\n",
       "    </tr>\n",
       "  </tbody>\n",
       "</table>\n",
       "</div>"
      ],
      "text/plain": [
       "                                                     0  \\\n",
       "id                                              100654   \n",
       "InstitutionName               Alabama A & M University   \n",
       "City                                            Normal   \n",
       "State                                               AL   \n",
       "PredominantDegreeAwarded                             3   \n",
       "Ownership                                       public   \n",
       "CompleteMedianDebtSuppressed                   33611.5   \n",
       "MedianEarningsWorking10Years                     31400   \n",
       "\n",
       "                                                                1  \\\n",
       "id                                                         100663   \n",
       "InstitutionName               University of Alabama at Birmingham   \n",
       "City                                                   Birmingham   \n",
       "State                                                          AL   \n",
       "PredominantDegreeAwarded                                        3   \n",
       "Ownership                                                  public   \n",
       "CompleteMedianDebtSuppressed                                23117   \n",
       "MedianEarningsWorking10Years                                40300   \n",
       "\n",
       "                                               2  \n",
       "id                                        100690  \n",
       "InstitutionName               Amridge University  \n",
       "City                                  Montgomery  \n",
       "State                                         AL  \n",
       "PredominantDegreeAwarded                       3  \n",
       "Ownership                     private non-profit  \n",
       "CompleteMedianDebtSuppressed                 NaN  \n",
       "MedianEarningsWorking10Years               38100  "
      ]
     },
     "execution_count": 2,
     "metadata": {},
     "output_type": "execute_result"
    }
   ],
   "source": [
    "#converter functions\n",
    "def ownership(x):\n",
    "    if x == '1':\n",
    "        return 'public'\n",
    "    elif x == '2':\n",
    "        return 'private non-profit'\n",
    "    elif x == '3':\n",
    "        return 'private for-profit'\n",
    "    else:\n",
    "        return 'unknown'\n",
    "#list of fields we'll use\n",
    "scorecard_fields = {\n",
    "    'UNITID' : 'id', \n",
    "    'INSTNM' : 'InstitutionName',\n",
    "    'CITY' : 'City',\n",
    "    'STABBR' : 'State',\n",
    "    'PREDDEG' : 'PredominantDegreeAwarded', #1=certificate, 2=associates, 3=bachelors, 4=all graduate\n",
    "    'CONTROL': 'Ownership', #1=public, 2=private non-profit, 3=private for-profit\n",
    "    'GRAD_DEBT_MDN_SUPP' : 'CompleteMedianDebtSuppressed',\n",
    "    'md_earn_wne_p10' : 'MedianEarningsWorking10Years'\n",
    "}\n",
    "scorecard = pd.read_csv(\n",
    "    SCORECARD_FILE,\n",
    "    usecols = scorecard_fields.keys(),\n",
    "    na_values = ['PrivacySuppressed'],\n",
    "    converters = {'CONTROL' : ownership}\n",
    ")\n",
    "#rename columns\n",
    "scorecard = scorecard.rename(columns = scorecard_fields)\n",
    "#peek at data\n",
    "scorecard.head(3).T"
   ]
  },
  {
   "cell_type": "markdown",
   "metadata": {},
   "source": [
    "## Get Earnings\n",
    "\n",
    "Pull in some supplemental earnings data, again pulling a small subset of fields into the pandas dataframe."
   ]
  },
  {
   "cell_type": "code",
   "execution_count": 3,
   "metadata": {
    "collapsed": false
   },
   "outputs": [
    {
     "data": {
      "text/html": [
       "<div>\n",
       "<table border=\"1\" class=\"dataframe\">\n",
       "  <thead>\n",
       "    <tr style=\"text-align: right;\">\n",
       "      <th></th>\n",
       "      <th>0</th>\n",
       "      <th>1</th>\n",
       "      <th>2</th>\n",
       "    </tr>\n",
       "  </thead>\n",
       "  <tbody>\n",
       "    <tr>\n",
       "      <th>id</th>\n",
       "      <td>100654.000000</td>\n",
       "      <td>100663.000000</td>\n",
       "      <td>100690.000000</td>\n",
       "    </tr>\n",
       "    <tr>\n",
       "      <th>Percent250007Years</th>\n",
       "      <td>0.530448</td>\n",
       "      <td>0.693369</td>\n",
       "      <td>0.662791</td>\n",
       "    </tr>\n",
       "    <tr>\n",
       "      <th>Percent250009Years</th>\n",
       "      <td>0.587838</td>\n",
       "      <td>0.737269</td>\n",
       "      <td>0.735632</td>\n",
       "    </tr>\n",
       "    <tr>\n",
       "      <th>Percent2500010Years</th>\n",
       "      <td>0.622063</td>\n",
       "      <td>0.749342</td>\n",
       "      <td>0.717647</td>\n",
       "    </tr>\n",
       "    <tr>\n",
       "      <th>Percent250006Years</th>\n",
       "      <td>0.462298</td>\n",
       "      <td>0.660484</td>\n",
       "      <td>0.646667</td>\n",
       "    </tr>\n",
       "    <tr>\n",
       "      <th>Percent250008Years</th>\n",
       "      <td>0.535882</td>\n",
       "      <td>0.713874</td>\n",
       "      <td>0.676471</td>\n",
       "    </tr>\n",
       "  </tbody>\n",
       "</table>\n",
       "</div>"
      ],
      "text/plain": [
       "                                 0              1              2\n",
       "id                   100654.000000  100663.000000  100690.000000\n",
       "Percent250007Years        0.530448       0.693369       0.662791\n",
       "Percent250009Years        0.587838       0.737269       0.735632\n",
       "Percent2500010Years       0.622063       0.749342       0.717647\n",
       "Percent250006Years        0.462298       0.660484       0.646667\n",
       "Percent250008Years        0.535882       0.713874       0.676471"
      ]
     },
     "execution_count": 3,
     "metadata": {},
     "output_type": "execute_result"
    }
   ],
   "source": [
    "earnings_fields = {\n",
    "    'UNITID' : 'id', \n",
    "    'gt_25k_p10' : 'Percent2500010Years',\n",
    "    'gt_25k_p9' : 'Percent250009Years',\n",
    "    'gt_25k_p8' : 'Percent250008Years',\n",
    "    'gt_25k_p7' : 'Percent250007Years',\n",
    "    'gt_25k_p6' : 'Percent250006Years'\n",
    "    \n",
    "}\n",
    "earnings = pd.read_csv(\n",
    "    EARNINGS_FILE,\n",
    "    usecols = earnings_fields.keys(),\n",
    "    na_values = ['PrivacySuppressed']\n",
    ")\n",
    "#rename columns\n",
    "earnings = earnings.rename(columns = earnings_fields)\n",
    "#peek at data\n",
    "earnings.head(3).T"
   ]
  },
  {
   "cell_type": "markdown",
   "metadata": {},
   "source": [
    "## Merge\n",
    "\n",
    "Use UNITID (id) to merge the supplemental earnings into the scorecard dataset. This will give us a single dataframe to play with. Then do a little cleanup:\n",
    "* Drop rows with incomplete data or with data that was suppressed for privacy due to a small sample size\n",
    "* Fix up data type\n",
    "* Convert percentages"
   ]
  },
  {
   "cell_type": "code",
   "execution_count": 4,
   "metadata": {
    "collapsed": false,
    "scrolled": true
   },
   "outputs": [
    {
     "data": {
      "text/html": [
       "<div>\n",
       "<table border=\"1\" class=\"dataframe\">\n",
       "  <thead>\n",
       "    <tr style=\"text-align: right;\">\n",
       "      <th></th>\n",
       "      <th>0</th>\n",
       "      <th>1</th>\n",
       "      <th>3</th>\n",
       "    </tr>\n",
       "  </thead>\n",
       "  <tbody>\n",
       "    <tr>\n",
       "      <th>id</th>\n",
       "      <td>100654</td>\n",
       "      <td>100663</td>\n",
       "      <td>100706</td>\n",
       "    </tr>\n",
       "    <tr>\n",
       "      <th>InstitutionName</th>\n",
       "      <td>Alabama A &amp; M University</td>\n",
       "      <td>University of Alabama at Birmingham</td>\n",
       "      <td>University of Alabama in Huntsville</td>\n",
       "    </tr>\n",
       "    <tr>\n",
       "      <th>City</th>\n",
       "      <td>Normal</td>\n",
       "      <td>Birmingham</td>\n",
       "      <td>Huntsville</td>\n",
       "    </tr>\n",
       "    <tr>\n",
       "      <th>State</th>\n",
       "      <td>AL</td>\n",
       "      <td>AL</td>\n",
       "      <td>AL</td>\n",
       "    </tr>\n",
       "    <tr>\n",
       "      <th>PredominantDegreeAwarded</th>\n",
       "      <td>3</td>\n",
       "      <td>3</td>\n",
       "      <td>3</td>\n",
       "    </tr>\n",
       "    <tr>\n",
       "      <th>Ownership</th>\n",
       "      <td>public</td>\n",
       "      <td>public</td>\n",
       "      <td>public</td>\n",
       "    </tr>\n",
       "    <tr>\n",
       "      <th>CompleteMedianDebtSuppressed</th>\n",
       "      <td>33611.5</td>\n",
       "      <td>23117</td>\n",
       "      <td>24738</td>\n",
       "    </tr>\n",
       "    <tr>\n",
       "      <th>MedianEarningsWorking10Years</th>\n",
       "      <td>31400</td>\n",
       "      <td>40300</td>\n",
       "      <td>46600</td>\n",
       "    </tr>\n",
       "    <tr>\n",
       "      <th>Percent250007Years</th>\n",
       "      <td>0.5304475</td>\n",
       "      <td>0.6933692</td>\n",
       "      <td>0.7186147</td>\n",
       "    </tr>\n",
       "    <tr>\n",
       "      <th>Percent250009Years</th>\n",
       "      <td>0.5878378</td>\n",
       "      <td>0.7372685</td>\n",
       "      <td>0.7811935</td>\n",
       "    </tr>\n",
       "    <tr>\n",
       "      <th>Percent2500010Years</th>\n",
       "      <td>62.20627</td>\n",
       "      <td>74.93424</td>\n",
       "      <td>79.38326</td>\n",
       "    </tr>\n",
       "    <tr>\n",
       "      <th>Percent250006Years</th>\n",
       "      <td>0.462298</td>\n",
       "      <td>0.6604845</td>\n",
       "      <td>0.6605657</td>\n",
       "    </tr>\n",
       "    <tr>\n",
       "      <th>Percent250008Years</th>\n",
       "      <td>0.5358819</td>\n",
       "      <td>0.7138737</td>\n",
       "      <td>0.7369281</td>\n",
       "    </tr>\n",
       "  </tbody>\n",
       "</table>\n",
       "</div>"
      ],
      "text/plain": [
       "                                                     0  \\\n",
       "id                                              100654   \n",
       "InstitutionName               Alabama A & M University   \n",
       "City                                            Normal   \n",
       "State                                               AL   \n",
       "PredominantDegreeAwarded                             3   \n",
       "Ownership                                       public   \n",
       "CompleteMedianDebtSuppressed                   33611.5   \n",
       "MedianEarningsWorking10Years                     31400   \n",
       "Percent250007Years                           0.5304475   \n",
       "Percent250009Years                           0.5878378   \n",
       "Percent2500010Years                           62.20627   \n",
       "Percent250006Years                            0.462298   \n",
       "Percent250008Years                           0.5358819   \n",
       "\n",
       "                                                                1  \\\n",
       "id                                                         100663   \n",
       "InstitutionName               University of Alabama at Birmingham   \n",
       "City                                                   Birmingham   \n",
       "State                                                          AL   \n",
       "PredominantDegreeAwarded                                        3   \n",
       "Ownership                                                  public   \n",
       "CompleteMedianDebtSuppressed                                23117   \n",
       "MedianEarningsWorking10Years                                40300   \n",
       "Percent250007Years                                      0.6933692   \n",
       "Percent250009Years                                      0.7372685   \n",
       "Percent2500010Years                                      74.93424   \n",
       "Percent250006Years                                      0.6604845   \n",
       "Percent250008Years                                      0.7138737   \n",
       "\n",
       "                                                                3  \n",
       "id                                                         100706  \n",
       "InstitutionName               University of Alabama in Huntsville  \n",
       "City                                                   Huntsville  \n",
       "State                                                          AL  \n",
       "PredominantDegreeAwarded                                        3  \n",
       "Ownership                                                  public  \n",
       "CompleteMedianDebtSuppressed                                24738  \n",
       "MedianEarningsWorking10Years                                46600  \n",
       "Percent250007Years                                      0.7186147  \n",
       "Percent250009Years                                      0.7811935  \n",
       "Percent2500010Years                                      79.38326  \n",
       "Percent250006Years                                      0.6605657  \n",
       "Percent250008Years                                      0.7369281  "
      ]
     },
     "execution_count": 4,
     "metadata": {},
     "output_type": "execute_result"
    }
   ],
   "source": [
    "scorecard = pd.merge(scorecard, earnings)\n",
    "scorecard = scorecard.dropna()\n",
    "scorecard.id = scorecard.id.astype(np.object)\n",
    "scorecard['Percent2500010Years'] = scorecard['Percent2500010Years']*100\n",
    "scorecard.head(3).T"
   ]
  },
  {
   "cell_type": "markdown",
   "metadata": {},
   "source": [
    "## Simple Widget - Distribution"
   ]
  },
  {
   "cell_type": "code",
   "execution_count": 5,
   "metadata": {
    "collapsed": false
   },
   "outputs": [
    {
     "data": {
      "text/plain": [
       "None"
      ]
     },
     "metadata": {},
     "output_type": "display_data"
    },
    {
     "data": {
      "image/png": "[encoded data removed]",
      "text/plain": [
       "<matplotlib.figure.Figure at 0x103d6ae80>"
      ]
     },
     "metadata": {},
     "output_type": "display_data"
    }
   ],
   "source": [
    "dist_radio = widgets.RadioButtons(\n",
    "    description='Variable:',\n",
    "    options=[\n",
    "        'Percent2500010Years',\n",
    "        'MedianEarningsWorking10Years',\n",
    "        'CompleteMedianDebtSuppressed']\n",
    ")\n",
    "def render_distplot(var):\n",
    "    ax = sns.distplot(scorecard[var])\n",
    "dist = interactive(render_distplot, var = dist_radio)\n",
    "display(dist)"
   ]
  },
  {
   "cell_type": "markdown",
   "metadata": {},
   "source": [
    "## Simple Widget - Boxplot Toggle"
   ]
  },
  {
   "cell_type": "code",
   "execution_count": 6,
   "metadata": {
    "collapsed": false,
    "scrolled": true
   },
   "outputs": [
    {
     "data": {
      "text/plain": [
       "None"
      ]
     },
     "metadata": {},
     "output_type": "display_data"
    },
    {
     "data": {
      "image/png": "[encoded data removed]",
      "text/plain": [
       "<matplotlib.figure.Figure at 0x1081b8080>"
      ]
     },
     "metadata": {},
     "output_type": "display_data"
    }
   ],
   "source": [
    "var_toggle = widgets.ToggleButtons(\n",
    "    description='Variable:',\n",
    "    options=[\n",
    "        'Percent2500010Years',\n",
    "        'MedianEarningsWorking10Years',\n",
    "        'CompleteMedianDebtSuppressed']\n",
    ")\n",
    "def render_boxplot(var):\n",
    "    ax = sns.boxplot(x=scorecard[var])\n",
    "v = interactive(render_boxplot, var = var_toggle)\n",
    "display(v)"
   ]
  },
  {
   "cell_type": "markdown",
   "metadata": {},
   "source": [
    "## Slider Widget\n",
    "\n",
    "**TODO**: Show % of schools on the y-axis instead of a straight count"
   ]
  },
  {
   "cell_type": "code",
   "execution_count": 8,
   "metadata": {
    "collapsed": false
   },
   "outputs": [
    {
     "data": {
      "text/plain": [
       "None"
      ]
     },
     "metadata": {},
     "output_type": "display_data"
    },
    {
     "data": {
      "image/png": "[encoded data removed]",
      "text/plain": [
       "<matplotlib.figure.Figure at 0x10843fb38>"
      ]
     },
     "metadata": {},
     "output_type": "display_data"
    }
   ],
   "source": [
    "slider = widgets.FloatSlider(\n",
    "    value = 50, \n",
    "    min = int(scorecard.Percent2500010Years.min()),\n",
    "    max = int(scorecard.Percent2500010Years.max()),\n",
    "    step = 5,\n",
    "    description = \"% earning $25,000/yr or more 10 years after entry\")\n",
    "def plot_by_ownership(percent_25000 = 50):\n",
    "    countplot = sns.countplot(\n",
    "        x = 'Ownership',\n",
    "        data=scorecard[scorecard['Percent2500010Years'] >= percent_25000]\n",
    "    )\n",
    "    countplot.set(ylabel = 'Total')\n",
    "    countplot.set(ylim=(1,2200))\n",
    "    #this title does not show up\n",
    "    countplot.set_title = 'Total Number of Schools Where Percent Working Students Make at Least $25,000/yr is >= {}'.format(percent_25000)\n",
    "s = interactive(plot_by_ownership, percent_25000 = slider)\n",
    "display(s)"
   ]
  }
 ],
 "metadata": {
  "kernelspec": {
   "display_name": "Python 3",
   "language": "python",
   "name": "python3"
  },
  "language_info": {
   "codemirror_mode": {
    "name": "ipython",
    "version": 3
   },
   "file_extension": ".py",
   "mimetype": "text/x-python",
   "name": "python",
   "nbconvert_exporter": "python",
   "pygments_lexer": "ipython3",
   "version": "3.4.3"
  }
 },
 "nbformat": 4,
 "nbformat_minor": 0
}
