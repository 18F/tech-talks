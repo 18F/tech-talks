{
 "cells": [
  {
   "cell_type": "markdown",
   "metadata": {},
   "source": [
    "# Miscellaneous Tips"
   ]
  },
  {
   "cell_type": "markdown",
   "metadata": {},
   "source": [
    "## Jupyter Notebook Config\n",
    "\n",
    "To create a config file that will apply to all local notebooks:\n",
    "\n",
    "```$ jupyter notebook --generate-config```\n",
    "\n",
    "This creates config file template with everything commented out. By default, the file is created in ```[home directory]\\.jupyter\\jupyter_notebook_config.py```.\n",
    "\n",
    "You can create more than one configuration file. To start jupyter notebook using a config file other than the default ```jupyter_notebook_config.py```:\n",
    "\n",
    "```$ jupyter notebook --config=~/.jupyter/different_config_file.py```\n",
    "\n",
    "To show the location of the config directory:\n",
    "\n",
    "```$ jupyter --config-dir```\n",
    "\n",
    "[More info on Jupyter config file options.](http://jupyter-notebook.readthedocs.org/en/latest/config.html#config \"Jupyter config files\")\n",
    "\n",
    "[More info about default Jupyter directories and how to change them via environment variables](http://jupyter.readthedocs.org/en/latest/system.html \"Jupyter on Your System\")"
   ]
  },
  {
   "cell_type": "markdown",
   "metadata": {},
   "source": [
    "## Formatting Notebooks\n",
    "\n",
    "* To style an individual notebook, import a css file. For example:  \n",
    "    ```from IPython.core.display import HTML\n",
    "styles = open(\"css/presentation.css\", \"r\").read()\n",
    "HTML(styles)```\n",
    "\n",
    "* To style all local notebooks, add a ```custom.css`` file to your Jupyter config directory:\n",
    "    1. Determine the location of your Jupyter config directory:  \n",
    "    ```$ jupyter --config-dir```\n",
    "    2. In the above folder, create a folder called ```custom```\n",
    "    3. Add ```custom.css``` to the ```custom``` folder. For example: ```~/.jupyter/custom/custom.css```\n",
    "\n",
    "\n",
    "According to the Jupyter 4.0 docs, there are plans to provide a mechanism for notebook themes."
   ]
  },
  {
   "cell_type": "markdown",
   "metadata": {},
   "source": [
    "## Connect to Existing Kernel\n",
    "Jupyter consists of two processes:\n",
    "* [Kernel](https://github.com/ipython/ipython/wiki/IPython-kernels-for-other-languages): runs code\n",
    "* Frontend (_e.g._, [terminal console](https://github.com/jupyter/jupyter_console \"Jupyter console on GitHub\"), [QTConsole](https://github.com/jupyter/qtconsole \"QTConsole on GitHub\"), [notebook](\")\n",
    "\n",
    "[Connect multiple frontends to an single kernel](http://jdfreder-notebook.readthedocs.org/en/docs/examples/Notebook/Connecting%20with%20the%20Qt%20Console.html)"
   ]
  }
 ],
 "metadata": {
  "kernelspec": {
   "display_name": "Python 3",
   "language": "python",
   "name": "python3"
  },
  "language_info": {
   "codemirror_mode": {
    "name": "ipython",
    "version": 3
   },
   "file_extension": ".py",
   "mimetype": "text/x-python",
   "name": "python",
   "nbconvert_exporter": "python",
   "pygments_lexer": "ipython3",
   "version": "3.4.3"
  }
 },
 "nbformat": 4,
 "nbformat_minor": 0
}
