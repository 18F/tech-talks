{
 "cells": [
  {
   "cell_type": "markdown",
   "metadata": {
    "slideshow": {
     "slide_type": "slide"
    }
   },
   "source": [
    "![panda](img/panda.png)\n",
    "# Data Munging with Python and Pandas\n",
    "\n",
    "Becky Sweger, 18F Engineering Team"
   ]
  },
  {
   "cell_type": "markdown",
   "metadata": {
    "slideshow": {
     "slide_type": "subslide"
    }
   },
   "source": [
    "## What is Pandas?\n",
    "\n",
    "From the [docs](http://pandas.pydata.org/pandas-docs/stable/):\n",
    "\n",
    "> pandas is a Python package providing fast, flexible, and expressive data structures designed to make working with “relational” or “labeled” data both easy and intuitive"
   ]
  },
  {
   "cell_type": "markdown",
   "metadata": {
    "slideshow": {
     "slide_type": "notes"
    }
   },
   "source": [
    "Demo getting a dataframe:\n",
    "\n",
    "`eiti = pd.read_excel('https://useiti.doi.gov/downloads/federal_revenue_onshore_acct-year_FY04-14_2015-11-20.xlsx')`\n",
    "\n",
    "Slice:\n",
    "\n",
    "`eiti[eiti['Total']>10000]`\n",
    "\n"
   ]
  },
  {
   "cell_type": "markdown",
   "metadata": {
    "slideshow": {
     "slide_type": "slide"
    }
   },
   "source": [
    "# Pandas\n",
    "\n",
    "* Series: 1-dimensional\n",
    "    * think column in a spreadsheet\n",
    "* Dataframe: 2-dimensional:\n",
    "    * think spreadsheet\n",
    "    * analagous to an R data.frame"
   ]
  },
  {
   "cell_type": "markdown",
   "metadata": {
    "slideshow": {
     "slide_type": "subslide"
    }
   },
   "source": [
    "![Pandas ecosystem](img/pandas-ecosystem.png)"
   ]
  },
  {
   "cell_type": "markdown",
   "metadata": {
    "slideshow": {
     "slide_type": "subslide"
    }
   },
   "source": [
    "## Pandas is good for:\n",
    "\n",
    "* fast, repeatable data wrangling\n",
    "* structured-ish data\n",
    "* integration with Python data stack\n",
    "* glue"
   ]
  },
  {
   "cell_type": "markdown",
   "metadata": {
    "slideshow": {
     "slide_type": "slide"
    }
   },
   "source": [
    "# Array Programming\n",
    "\n",
    "Pandas is built on top of [Numpy](http://www.numpy.org/), a Python library that enables array programming\n",
    "\n",
    "* fast, efficient operations on arrays of homogeneous data\n",
    "* you operate on aggregates of data; no explicit loops\n",
    "* many operations performed via compiled code"
   ]
  },
  {
   "cell_type": "markdown",
   "metadata": {
    "slideshow": {
     "slide_type": "slide"
    }
   },
   "source": [
    "# Data Munging\n",
    "\n",
    "Step 0: if you're new to Python, skip the yak shaving and [download the Anaconda Python distribution](https://www.continuum.io/downloads \"download Anaconda\").\n",
    "\n",
    "1. Get the data\n",
    "2. Explore\n",
    "3. Clean\n",
    "4. Augment & Prep\n",
    "5. Output"
   ]
  },
  {
   "cell_type": "markdown",
   "metadata": {
    "slideshow": {
     "slide_type": "slide"
    }
   },
   "source": [
    "# Step 1: Get The Data"
   ]
  },
  {
   "cell_type": "markdown",
   "metadata": {
    "collapsed": true,
    "slideshow": {
     "slide_type": "slide"
    }
   },
   "source": [
    "Pandas makes it easy to create a DataFrame from existing data.\n",
    "\n",
    "The [U.S. Federal Budget](https://www.whitehouse.gov/omb/budget \"The President's Budget\")\n",
    "* [Outlays](https://www.whitehouse.gov/omb/budget/Supplemental \"supplemental materials\") (scroll down to _Public Budget Database_)\n",
    "* [\"Deflators\"](https://www.whitehouse.gov/omb/budget/Historicals \"historical tables\") (scroll down to _Table 10.1_)"
   ]
  },
  {
   "cell_type": "code",
   "execution_count": null,
   "metadata": {
    "collapsed": true,
    "slideshow": {
     "slide_type": "subslide"
    }
   },
   "outputs": [],
   "source": [
    "# import things\n",
    "\n",
    "import pandas as pd \n",
    "import seaborn as sns\n",
    "import matplotlib.pyplot as plt\n",
    "import matplotlib\n",
    "matplotlib.style.use('ggplot')\n",
    "%matplotlib inline"
   ]
  },
  {
   "cell_type": "code",
   "execution_count": 6,
   "metadata": {
    "collapsed": false,
    "slideshow": {
     "slide_type": "subslide"
    }
   },
   "outputs": [
    {
     "data": {
      "text/html": [
       "<div>\n",
       "<table border=\"1\" class=\"dataframe\">\n",
       "  <thead>\n",
       "    <tr style=\"text-align: right;\">\n",
       "      <th></th>\n",
       "      <th>Agency Code</th>\n",
       "      <th>Agency Name</th>\n",
       "      <th>Bureau Code</th>\n",
       "      <th>Bureau Name</th>\n",
       "      <th>Account Code</th>\n",
       "      <th>Account Name</th>\n",
       "      <th>Treasury Agency Code</th>\n",
       "      <th>Subfunction Code</th>\n",
       "      <th>Subfunction Title</th>\n",
       "      <th>BEA Category</th>\n",
       "      <th>...</th>\n",
       "      <th>2012</th>\n",
       "      <th>2013</th>\n",
       "      <th>2014</th>\n",
       "      <th>2015</th>\n",
       "      <th>2016</th>\n",
       "      <th>2017</th>\n",
       "      <th>2018</th>\n",
       "      <th>2019</th>\n",
       "      <th>2020</th>\n",
       "      <th>2021</th>\n",
       "    </tr>\n",
       "  </thead>\n",
       "  <tbody>\n",
       "    <tr>\n",
       "      <th>0</th>\n",
       "      <td>1</td>\n",
       "      <td>Legislative Branch</td>\n",
       "      <td>0</td>\n",
       "      <td>Legislative Branch</td>\n",
       "      <td>NaN</td>\n",
       "      <td>Receipts, Central fiscal operations</td>\n",
       "      <td>NaN</td>\n",
       "      <td>803</td>\n",
       "      <td>Central fiscal operations</td>\n",
       "      <td>Mandatory</td>\n",
       "      <td>...</td>\n",
       "      <td>0</td>\n",
       "      <td>0</td>\n",
       "      <td>0</td>\n",
       "      <td>0</td>\n",
       "      <td>0</td>\n",
       "      <td>0</td>\n",
       "      <td>0</td>\n",
       "      <td>0</td>\n",
       "      <td>0</td>\n",
       "      <td>0</td>\n",
       "    </tr>\n",
       "    <tr>\n",
       "      <th>1</th>\n",
       "      <td>1</td>\n",
       "      <td>Legislative Branch</td>\n",
       "      <td>0</td>\n",
       "      <td>Legislative Branch</td>\n",
       "      <td>NaN</td>\n",
       "      <td>Receipts, Central fiscal operations</td>\n",
       "      <td>NaN</td>\n",
       "      <td>908</td>\n",
       "      <td>Other interest</td>\n",
       "      <td>Net interest</td>\n",
       "      <td>...</td>\n",
       "      <td>0</td>\n",
       "      <td>0</td>\n",
       "      <td>0</td>\n",
       "      <td>0</td>\n",
       "      <td>0</td>\n",
       "      <td>0</td>\n",
       "      <td>0</td>\n",
       "      <td>0</td>\n",
       "      <td>0</td>\n",
       "      <td>0</td>\n",
       "    </tr>\n",
       "    <tr>\n",
       "      <th>2</th>\n",
       "      <td>1</td>\n",
       "      <td>Legislative Branch</td>\n",
       "      <td>0</td>\n",
       "      <td>Legislative Branch</td>\n",
       "      <td>241400.0</td>\n",
       "      <td>Charges for services to trust funds</td>\n",
       "      <td>NaN</td>\n",
       "      <td>803</td>\n",
       "      <td>Central fiscal operations</td>\n",
       "      <td>Mandatory</td>\n",
       "      <td>...</td>\n",
       "      <td>0</td>\n",
       "      <td>0</td>\n",
       "      <td>0</td>\n",
       "      <td>0</td>\n",
       "      <td>0</td>\n",
       "      <td>0</td>\n",
       "      <td>0</td>\n",
       "      <td>0</td>\n",
       "      <td>0</td>\n",
       "      <td>0</td>\n",
       "    </tr>\n",
       "    <tr>\n",
       "      <th>3</th>\n",
       "      <td>1</td>\n",
       "      <td>Legislative Branch</td>\n",
       "      <td>5</td>\n",
       "      <td>Senate</td>\n",
       "      <td>0.0</td>\n",
       "      <td>Senate</td>\n",
       "      <td>0.0</td>\n",
       "      <td>801</td>\n",
       "      <td>Legislative functions</td>\n",
       "      <td>Discretionary</td>\n",
       "      <td>...</td>\n",
       "      <td>0</td>\n",
       "      <td>0</td>\n",
       "      <td>0</td>\n",
       "      <td>0</td>\n",
       "      <td>0</td>\n",
       "      <td>0</td>\n",
       "      <td>0</td>\n",
       "      <td>0</td>\n",
       "      <td>0</td>\n",
       "      <td>0</td>\n",
       "    </tr>\n",
       "    <tr>\n",
       "      <th>4</th>\n",
       "      <td>1</td>\n",
       "      <td>Legislative Branch</td>\n",
       "      <td>5</td>\n",
       "      <td>Senate</td>\n",
       "      <td>100.0</td>\n",
       "      <td>Compensation of Members, Senate</td>\n",
       "      <td>0.0</td>\n",
       "      <td>801</td>\n",
       "      <td>Legislative functions</td>\n",
       "      <td>Mandatory</td>\n",
       "      <td>...</td>\n",
       "      <td>23,000</td>\n",
       "      <td>23,000</td>\n",
       "      <td>23,000</td>\n",
       "      <td>23,000</td>\n",
       "      <td>27,000</td>\n",
       "      <td>24,000</td>\n",
       "      <td>24,000</td>\n",
       "      <td>24,000</td>\n",
       "      <td>24,000</td>\n",
       "      <td>24,000</td>\n",
       "    </tr>\n",
       "  </tbody>\n",
       "</table>\n",
       "<p>5 rows × 73 columns</p>\n",
       "</div>"
      ],
      "text/plain": [
       "   Agency Code         Agency Name  Bureau Code         Bureau Name  \\\n",
       "0            1  Legislative Branch            0  Legislative Branch   \n",
       "1            1  Legislative Branch            0  Legislative Branch   \n",
       "2            1  Legislative Branch            0  Legislative Branch   \n",
       "3            1  Legislative Branch            5              Senate   \n",
       "4            1  Legislative Branch            5              Senate   \n",
       "\n",
       "   Account Code                         Account Name  Treasury Agency Code  \\\n",
       "0           NaN  Receipts, Central fiscal operations                   NaN   \n",
       "1           NaN  Receipts, Central fiscal operations                   NaN   \n",
       "2      241400.0  Charges for services to trust funds                   NaN   \n",
       "3           0.0                               Senate                   0.0   \n",
       "4         100.0      Compensation of Members, Senate                   0.0   \n",
       "\n",
       "   Subfunction Code          Subfunction Title   BEA Category   ...      2012  \\\n",
       "0               803  Central fiscal operations      Mandatory   ...         0   \n",
       "1               908             Other interest   Net interest   ...         0   \n",
       "2               803  Central fiscal operations      Mandatory   ...         0   \n",
       "3               801      Legislative functions  Discretionary   ...         0   \n",
       "4               801      Legislative functions      Mandatory   ...    23,000   \n",
       "\n",
       "     2013    2014    2015    2016    2017    2018    2019    2020    2021  \n",
       "0       0       0       0       0       0       0       0       0       0  \n",
       "1       0       0       0       0       0       0       0       0       0  \n",
       "2       0       0       0       0       0       0       0       0       0  \n",
       "3       0       0       0       0       0       0       0       0       0  \n",
       "4  23,000  23,000  23,000  27,000  24,000  24,000  24,000  24,000  24,000  \n",
       "\n",
       "[5 rows x 73 columns]"
      ]
     },
     "execution_count": 6,
     "metadata": {},
     "output_type": "execute_result"
    }
   ],
   "source": [
    "# create a DataFrame from the outlays .csv\n",
    "outlays = pd.read_csv('data/outlays.csv')\n",
    "outlays.head()      "
   ]
  },
  {
   "cell_type": "code",
   "execution_count": 7,
   "metadata": {
    "collapsed": false,
    "slideshow": {
     "slide_type": "subslide"
    }
   },
   "outputs": [
    {
     "data": {
      "text/plain": [
       "pandas.core.frame.DataFrame"
      ]
     },
     "execution_count": 7,
     "metadata": {},
     "output_type": "execute_result"
    }
   ],
   "source": [
    "# create a DataFrame from the \"deflators\" .xls  (requires xlrd library)\n",
    "deflators = pd.read_excel('https://www.whitehouse.gov/sites/default/files/omb/budget/fy2017/assets/hist10z1.xls')\n",
    "type(deflators)"
   ]
  },
  {
   "cell_type": "markdown",
   "metadata": {
    "slideshow": {
     "slide_type": "slide"
    }
   },
   "source": [
    "## Other things that can create a DataFrame\n",
    "\n",
    "* Python-specific (_e.g._, tuples, lists, dictionaries, pickle)\n",
    "* Relational database\n",
    "* JSON\n",
    "* HTML\n",
    "* Stata/SAS\n",
    "* HDF5\n",
    "* MessagePack (experimental)\n",
    "* Google's BigQuery (experimental)\n",
    "\n",
    "More information: [IO Tools](http://pandas.pydata.org/pandas-docs/stable/io.html \"Pandas IO Tools\")"
   ]
  },
  {
   "cell_type": "markdown",
   "metadata": {
    "slideshow": {
     "slide_type": "slide"
    }
   },
   "source": [
    "## Take a peek...\n",
    "\n",
    "Some useful functions for a first look at your DataFrame:\n",
    "\n",
    "* [head](http://pandas.pydata.org/pandas-docs/stable/generated/pandas.DataFrame.head.html \"DataFrame.head\")\n",
    "* [tail](http://pandas.pydata.org/pandas-docs/stable/generated/pandas.DataFrame.tail.html \"DataFrame.tail\")\n",
    "* [iloc](http://pandas.pydata.org/pandas-docs/stable/generated/pandas.DataFrame.iloc.html \"pandas.DataFrame.iloc\")\n",
    "* [unique](http://pandas.pydata.org/pandas-docs/stable/generated/pandas.Series.unique.html \"pandas.Series.unique\")\n",
    "\n",
    "See also:\n",
    "\n",
    "* [Pandas docs: Indexing and Selecting Data](http://pandas.pydata.org/pandas-docs/stable/indexing.html \"Pandas: indexing and selecting data\")\n",
    "* [Chris Albon's indexing and selecting examples](http://chrisalbon.com/python/pandas_indexing_selecting.html \"Pandas indexing and selecting examples\")"
   ]
  },
  {
   "cell_type": "code",
   "execution_count": 8,
   "metadata": {
    "collapsed": false,
    "slideshow": {
     "slide_type": "subslide"
    }
   },
   "outputs": [
    {
     "data": {
      "text/html": [
       "<div>\n",
       "<table border=\"1\" class=\"dataframe\">\n",
       "  <thead>\n",
       "    <tr style=\"text-align: right;\">\n",
       "      <th></th>\n",
       "      <th>Agency Code</th>\n",
       "      <th>Agency Name</th>\n",
       "      <th>Bureau Code</th>\n",
       "      <th>Bureau Name</th>\n",
       "      <th>Account Code</th>\n",
       "      <th>Account Name</th>\n",
       "      <th>Treasury Agency Code</th>\n",
       "      <th>Subfunction Code</th>\n",
       "      <th>Subfunction Title</th>\n",
       "      <th>BEA Category</th>\n",
       "      <th>...</th>\n",
       "      <th>2012</th>\n",
       "      <th>2013</th>\n",
       "      <th>2014</th>\n",
       "      <th>2015</th>\n",
       "      <th>2016</th>\n",
       "      <th>2017</th>\n",
       "      <th>2018</th>\n",
       "      <th>2019</th>\n",
       "      <th>2020</th>\n",
       "      <th>2021</th>\n",
       "    </tr>\n",
       "  </thead>\n",
       "  <tbody>\n",
       "    <tr>\n",
       "      <th>5081</th>\n",
       "      <td>902</td>\n",
       "      <td>Undistributed Offsetting Receipts</td>\n",
       "      <td>0</td>\n",
       "      <td>Undistributed Offsetting Receipts</td>\n",
       "      <td>977120.0</td>\n",
       "      <td>Interest, Special Worker's Compensation Expenses</td>\n",
       "      <td>16.0</td>\n",
       "      <td>902</td>\n",
       "      <td>Interest received by on-budget trust funds</td>\n",
       "      <td>Net interest</td>\n",
       "      <td>...</td>\n",
       "      <td>0</td>\n",
       "      <td>0</td>\n",
       "      <td>0</td>\n",
       "      <td>0</td>\n",
       "      <td>0</td>\n",
       "      <td>0</td>\n",
       "      <td>0</td>\n",
       "      <td>0</td>\n",
       "      <td>0</td>\n",
       "      <td>0</td>\n",
       "    </tr>\n",
       "    <tr>\n",
       "      <th>5082</th>\n",
       "      <td>902</td>\n",
       "      <td>Undistributed Offsetting Receipts</td>\n",
       "      <td>0</td>\n",
       "      <td>Undistributed Offsetting Receipts</td>\n",
       "      <td>977910.0</td>\n",
       "      <td>Employing agency contributions, Miscellaneous ...</td>\n",
       "      <td>20.0</td>\n",
       "      <td>951</td>\n",
       "      <td>Employer share, employee retirement (on-budget)</td>\n",
       "      <td>Mandatory</td>\n",
       "      <td>...</td>\n",
       "      <td>0</td>\n",
       "      <td>0</td>\n",
       "      <td>0</td>\n",
       "      <td>0</td>\n",
       "      <td>0</td>\n",
       "      <td>0</td>\n",
       "      <td>0</td>\n",
       "      <td>0</td>\n",
       "      <td>0</td>\n",
       "      <td>0</td>\n",
       "    </tr>\n",
       "    <tr>\n",
       "      <th>5083</th>\n",
       "      <td>902</td>\n",
       "      <td>Undistributed Offsetting Receipts</td>\n",
       "      <td>0</td>\n",
       "      <td>Undistributed Offsetting Receipts</td>\n",
       "      <td>977920.0</td>\n",
       "      <td>Interest, Miscellaneous Trust Funds, Governmen...</td>\n",
       "      <td>20.0</td>\n",
       "      <td>902</td>\n",
       "      <td>Interest received by on-budget trust funds</td>\n",
       "      <td>Net interest</td>\n",
       "      <td>...</td>\n",
       "      <td>0</td>\n",
       "      <td>0</td>\n",
       "      <td>0</td>\n",
       "      <td>0</td>\n",
       "      <td>0</td>\n",
       "      <td>0</td>\n",
       "      <td>0</td>\n",
       "      <td>0</td>\n",
       "      <td>0</td>\n",
       "      <td>0</td>\n",
       "    </tr>\n",
       "    <tr>\n",
       "      <th>5084</th>\n",
       "      <td>902</td>\n",
       "      <td>Undistributed Offsetting Receipts</td>\n",
       "      <td>0</td>\n",
       "      <td>Undistributed Offsetting Receipts</td>\n",
       "      <td>997120.0</td>\n",
       "      <td>Interest, Other DOD Trust Funds</td>\n",
       "      <td>17.0</td>\n",
       "      <td>902</td>\n",
       "      <td>Interest received by on-budget trust funds</td>\n",
       "      <td>Net interest</td>\n",
       "      <td>...</td>\n",
       "      <td>0</td>\n",
       "      <td>0</td>\n",
       "      <td>0</td>\n",
       "      <td>0</td>\n",
       "      <td>-1,000</td>\n",
       "      <td>-1,000</td>\n",
       "      <td>-1,000</td>\n",
       "      <td>-1,000</td>\n",
       "      <td>-1,000</td>\n",
       "      <td>-1,000</td>\n",
       "    </tr>\n",
       "    <tr>\n",
       "      <th>5085</th>\n",
       "      <td>930</td>\n",
       "      <td>Miscellaneous Receipts Below the Reporting Thr...</td>\n",
       "      <td>0</td>\n",
       "      <td>Miscellaneous Receipts Below the Reporting Thr...</td>\n",
       "      <td>901000.0</td>\n",
       "      <td>Miscellaneous Unconverted Offsetting Receipts</td>\n",
       "      <td>99.0</td>\n",
       "      <td>809</td>\n",
       "      <td>Deductions for offsetting receipts</td>\n",
       "      <td>Mandatory</td>\n",
       "      <td>...</td>\n",
       "      <td>-7,000</td>\n",
       "      <td>0</td>\n",
       "      <td>-8,000</td>\n",
       "      <td>-15,000</td>\n",
       "      <td>0</td>\n",
       "      <td>0</td>\n",
       "      <td>0</td>\n",
       "      <td>0</td>\n",
       "      <td>0</td>\n",
       "      <td>0</td>\n",
       "    </tr>\n",
       "  </tbody>\n",
       "</table>\n",
       "<p>5 rows × 73 columns</p>\n",
       "</div>"
      ],
      "text/plain": [
       "      Agency Code                                        Agency Name  \\\n",
       "5081          902                  Undistributed Offsetting Receipts   \n",
       "5082          902                  Undistributed Offsetting Receipts   \n",
       "5083          902                  Undistributed Offsetting Receipts   \n",
       "5084          902                  Undistributed Offsetting Receipts   \n",
       "5085          930  Miscellaneous Receipts Below the Reporting Thr...   \n",
       "\n",
       "      Bureau Code                                        Bureau Name  \\\n",
       "5081            0                  Undistributed Offsetting Receipts   \n",
       "5082            0                  Undistributed Offsetting Receipts   \n",
       "5083            0                  Undistributed Offsetting Receipts   \n",
       "5084            0                  Undistributed Offsetting Receipts   \n",
       "5085            0  Miscellaneous Receipts Below the Reporting Thr...   \n",
       "\n",
       "      Account Code                                       Account Name  \\\n",
       "5081      977120.0   Interest, Special Worker's Compensation Expenses   \n",
       "5082      977910.0  Employing agency contributions, Miscellaneous ...   \n",
       "5083      977920.0  Interest, Miscellaneous Trust Funds, Governmen...   \n",
       "5084      997120.0                    Interest, Other DOD Trust Funds   \n",
       "5085      901000.0      Miscellaneous Unconverted Offsetting Receipts   \n",
       "\n",
       "      Treasury Agency Code  Subfunction Code  \\\n",
       "5081                  16.0               902   \n",
       "5082                  20.0               951   \n",
       "5083                  20.0               902   \n",
       "5084                  17.0               902   \n",
       "5085                  99.0               809   \n",
       "\n",
       "                                    Subfunction Title  BEA Category   ...    \\\n",
       "5081       Interest received by on-budget trust funds  Net interest   ...     \n",
       "5082  Employer share, employee retirement (on-budget)     Mandatory   ...     \n",
       "5083       Interest received by on-budget trust funds  Net interest   ...     \n",
       "5084       Interest received by on-budget trust funds  Net interest   ...     \n",
       "5085               Deductions for offsetting receipts     Mandatory   ...     \n",
       "\n",
       "        2012 2013    2014     2015    2016    2017    2018    2019    2020  \\\n",
       "5081       0    0       0        0       0       0       0       0       0   \n",
       "5082       0    0       0        0       0       0       0       0       0   \n",
       "5083       0    0       0        0       0       0       0       0       0   \n",
       "5084       0    0       0        0  -1,000  -1,000  -1,000  -1,000  -1,000   \n",
       "5085  -7,000    0  -8,000  -15,000       0       0       0       0       0   \n",
       "\n",
       "        2021  \n",
       "5081       0  \n",
       "5082       0  \n",
       "5083       0  \n",
       "5084  -1,000  \n",
       "5085       0  \n",
       "\n",
       "[5 rows x 73 columns]"
      ]
     },
     "execution_count": 8,
     "metadata": {},
     "output_type": "execute_result"
    }
   ],
   "source": [
    "outlays.tail()"
   ]
  },
  {
   "cell_type": "code",
   "execution_count": 9,
   "metadata": {
    "collapsed": false,
    "slideshow": {
     "slide_type": "subslide"
    }
   },
   "outputs": [
    {
     "data": {
      "text/html": [
       "<div>\n",
       "<table border=\"1\" class=\"dataframe\">\n",
       "  <thead>\n",
       "    <tr style=\"text-align: right;\">\n",
       "      <th></th>\n",
       "      <th>Table 10.1—GROSS DOMESTIC PRODUCT AND DEFLATORS USED IN THE HISTORICAL TABLES: 1940–2021</th>\n",
       "      <th>Unnamed: 1</th>\n",
       "      <th>Unnamed: 2</th>\n",
       "      <th>Unnamed: 3</th>\n",
       "      <th>Unnamed: 4</th>\n",
       "      <th>Unnamed: 5</th>\n",
       "      <th>Unnamed: 6</th>\n",
       "      <th>Unnamed: 7</th>\n",
       "      <th>Unnamed: 8</th>\n",
       "      <th>Unnamed: 9</th>\n",
       "      <th>Unnamed: 10</th>\n",
       "      <th>Unnamed: 11</th>\n",
       "      <th>Unnamed: 12</th>\n",
       "      <th>Unnamed: 13</th>\n",
       "      <th>Unnamed: 14</th>\n",
       "      <th>Unnamed: 15</th>\n",
       "    </tr>\n",
       "  </thead>\n",
       "  <tbody>\n",
       "    <tr>\n",
       "      <th>0</th>\n",
       "      <td>(Fiscal Year 2009 = 1.000)</td>\n",
       "      <td>NaN</td>\n",
       "      <td>NaN</td>\n",
       "      <td>NaN</td>\n",
       "      <td>NaN</td>\n",
       "      <td>NaN</td>\n",
       "      <td>NaN</td>\n",
       "      <td>NaN</td>\n",
       "      <td>NaN</td>\n",
       "      <td>NaN</td>\n",
       "      <td>NaN</td>\n",
       "      <td>NaN</td>\n",
       "      <td>NaN</td>\n",
       "      <td>NaN</td>\n",
       "      <td>NaN</td>\n",
       "      <td>NaN</td>\n",
       "    </tr>\n",
       "    <tr>\n",
       "      <th>1</th>\n",
       "      <td>Fiscal Year</td>\n",
       "      <td>GDP (in billions of dollars)</td>\n",
       "      <td>GDP (Chained) Price Index</td>\n",
       "      <td>Composite Outlay Deflators</td>\n",
       "      <td>NaN</td>\n",
       "      <td>NaN</td>\n",
       "      <td>NaN</td>\n",
       "      <td>NaN</td>\n",
       "      <td>NaN</td>\n",
       "      <td>NaN</td>\n",
       "      <td>NaN</td>\n",
       "      <td>NaN</td>\n",
       "      <td>NaN</td>\n",
       "      <td>NaN</td>\n",
       "      <td>NaN</td>\n",
       "      <td>NaN</td>\n",
       "    </tr>\n",
       "    <tr>\n",
       "      <th>2</th>\n",
       "      <td>NaN</td>\n",
       "      <td>NaN</td>\n",
       "      <td>NaN</td>\n",
       "      <td>Total</td>\n",
       "      <td>Total Defense</td>\n",
       "      <td>Total Non- defense</td>\n",
       "      <td>Payment for Individuals</td>\n",
       "      <td>NaN</td>\n",
       "      <td>NaN</td>\n",
       "      <td>Other Grants</td>\n",
       "      <td>Net Interest</td>\n",
       "      <td>Undis- tributed Offsetting Receipts</td>\n",
       "      <td>All Other</td>\n",
       "      <td>Addendum: Direct Capital</td>\n",
       "      <td>NaN</td>\n",
       "      <td>NaN</td>\n",
       "    </tr>\n",
       "    <tr>\n",
       "      <th>86</th>\n",
       "      <td>2021 estimate</td>\n",
       "      <td>22875.2</td>\n",
       "      <td>1.2294</td>\n",
       "      <td>1.2551</td>\n",
       "      <td>1.2355</td>\n",
       "      <td>1.2578</td>\n",
       "      <td>1.2584</td>\n",
       "      <td>1.2583</td>\n",
       "      <td>1.2589</td>\n",
       "      <td>1.361</td>\n",
       "      <td>1.2294</td>\n",
       "      <td>1.2834</td>\n",
       "      <td>1.259</td>\n",
       "      <td>1.1983</td>\n",
       "      <td>1.1927</td>\n",
       "      <td>1.2137</td>\n",
       "    </tr>\n",
       "    <tr>\n",
       "      <th>87</th>\n",
       "      <td>Note: Constant dollar research and development...</td>\n",
       "      <td>NaN</td>\n",
       "      <td>NaN</td>\n",
       "      <td>NaN</td>\n",
       "      <td>NaN</td>\n",
       "      <td>NaN</td>\n",
       "      <td>NaN</td>\n",
       "      <td>NaN</td>\n",
       "      <td>NaN</td>\n",
       "      <td>NaN</td>\n",
       "      <td>NaN</td>\n",
       "      <td>NaN</td>\n",
       "      <td>NaN</td>\n",
       "      <td>NaN</td>\n",
       "      <td>NaN</td>\n",
       "      <td>NaN</td>\n",
       "    </tr>\n",
       "  </tbody>\n",
       "</table>\n",
       "</div>"
      ],
      "text/plain": [
       "   Table 10.1—GROSS DOMESTIC PRODUCT AND DEFLATORS USED IN THE HISTORICAL TABLES: 1940–2021  \\\n",
       "0                          (Fiscal Year 2009 = 1.000)                                         \n",
       "1                                         Fiscal Year                                         \n",
       "2                                                 NaN                                         \n",
       "86                                      2021 estimate                                         \n",
       "87  Note: Constant dollar research and development...                                         \n",
       "\n",
       "                      Unnamed: 1                 Unnamed: 2  \\\n",
       "0                            NaN                        NaN   \n",
       "1   GDP (in billions of dollars)  GDP (Chained) Price Index   \n",
       "2                            NaN                        NaN   \n",
       "86                       22875.2                     1.2294   \n",
       "87                           NaN                        NaN   \n",
       "\n",
       "                    Unnamed: 3     Unnamed: 4          Unnamed: 5  \\\n",
       "0                          NaN            NaN                 NaN   \n",
       "1   Composite Outlay Deflators            NaN                 NaN   \n",
       "2                        Total  Total Defense  Total Non- defense   \n",
       "86                      1.2551         1.2355              1.2578   \n",
       "87                         NaN            NaN                 NaN   \n",
       "\n",
       "                 Unnamed: 6 Unnamed: 7 Unnamed: 8    Unnamed: 9   Unnamed: 10  \\\n",
       "0                       NaN        NaN        NaN           NaN           NaN   \n",
       "1                       NaN        NaN        NaN           NaN           NaN   \n",
       "2   Payment for Individuals        NaN        NaN  Other Grants  Net Interest   \n",
       "86                   1.2584     1.2583     1.2589         1.361        1.2294   \n",
       "87                      NaN        NaN        NaN           NaN           NaN   \n",
       "\n",
       "                            Unnamed: 11 Unnamed: 12               Unnamed: 13  \\\n",
       "0                                   NaN         NaN                       NaN   \n",
       "1                                   NaN         NaN                       NaN   \n",
       "2   Undis- tributed Offsetting Receipts   All Other  Addendum: Direct Capital   \n",
       "86                               1.2834       1.259                    1.1983   \n",
       "87                                  NaN         NaN                       NaN   \n",
       "\n",
       "   Unnamed: 14 Unnamed: 15  \n",
       "0          NaN         NaN  \n",
       "1          NaN         NaN  \n",
       "2          NaN         NaN  \n",
       "86      1.1927      1.2137  \n",
       "87         NaN         NaN  "
      ]
     },
     "execution_count": 9,
     "metadata": {},
     "output_type": "execute_result"
    }
   ],
   "source": [
    "# grab first 3 and the last 2 rows of the deflators dataframe\n",
    "\n",
    "deflators.iloc[[0,1,2,-2,-1]]"
   ]
  },
  {
   "cell_type": "markdown",
   "metadata": {
    "slideshow": {
     "slide_type": "slide"
    }
   },
   "source": [
    "# Step 2: Explore\n",
    "\n",
    "What kind of pain are you in for?"
   ]
  },
  {
   "cell_type": "code",
   "execution_count": 11,
   "metadata": {
    "collapsed": false,
    "slideshow": {
     "slide_type": "subslide"
    }
   },
   "outputs": [
    {
     "data": {
      "text/plain": [
       "Index(['Agency Code', 'Agency Name', 'Bureau Code', 'Bureau Name',\n",
       "       'Account Code', 'Account Name', 'Treasury Agency Code',\n",
       "       'Subfunction Code', 'Subfunction Title', 'BEA Category',\n",
       "       'Grant/non-grant split', 'On- or Off- Budget', '1962', '1963', '1964',\n",
       "       '1965', '1966', '1967', '1968', '1969', '1970', '1971', '1972', '1973',\n",
       "       '1974', '1975', '1976', 'TQ', '1977', '1978', '1979', '1980', '1981',\n",
       "       '1982', '1983', '1984', '1985', '1986', '1987', '1988', '1989', '1990',\n",
       "       '1991', '1992', '1993', '1994', '1995', '1996', '1997', '1998', '1999',\n",
       "       '2000', '2001', '2002', '2003', '2004', '2005', '2006', '2007', '2008',\n",
       "       '2009', '2010', '2011', '2012', '2013', '2014', '2015', '2016', '2017',\n",
       "       '2018', '2019', '2020', '2021'],\n",
       "      dtype='object')"
      ]
     },
     "execution_count": 11,
     "metadata": {},
     "output_type": "execute_result"
    }
   ],
   "source": [
    "# see the column names\n",
    "outlays.columns"
   ]
  },
  {
   "cell_type": "code",
   "execution_count": 12,
   "metadata": {
    "collapsed": false,
    "slideshow": {
     "slide_type": "subslide"
    }
   },
   "outputs": [
    {
     "name": "stdout",
     "output_type": "stream",
     "text": [
      "<class 'pandas.core.frame.DataFrame'>\n",
      "RangeIndex: 5086 entries, 0 to 5085\n",
      "Data columns (total 73 columns):\n",
      "Agency Code              5086 non-null int64\n",
      "Agency Name              5086 non-null object\n",
      "Bureau Code              5086 non-null int64\n",
      "Bureau Name              5086 non-null object\n",
      "Account Code             5048 non-null float64\n",
      "Account Name             5086 non-null object\n",
      "Treasury Agency Code     4944 non-null float64\n",
      "Subfunction Code         5086 non-null int64\n",
      "Subfunction Title        5086 non-null object\n",
      "BEA Category             5086 non-null object\n",
      "Grant/non-grant split    5086 non-null object\n",
      "On- or Off- Budget       5086 non-null object\n",
      "1962                     5086 non-null object\n",
      "1963                     5086 non-null object\n",
      "1964                     5086 non-null object\n",
      "1965                     5086 non-null object\n",
      "1966                     5086 non-null object\n",
      "1967                     5086 non-null object\n",
      "1968                     5086 non-null object\n",
      "1969                     5086 non-null object\n",
      "1970                     5086 non-null object\n",
      "1971                     5086 non-null object\n",
      "1972                     5086 non-null object\n",
      "1973                     5086 non-null object\n",
      "1974                     5086 non-null object\n",
      "1975                     5086 non-null object\n",
      "1976                     5086 non-null object\n",
      "TQ                       5086 non-null object\n",
      "1977                     5086 non-null object\n",
      "1978                     5086 non-null object\n",
      "1979                     5086 non-null object\n",
      "1980                     5086 non-null object\n",
      "1981                     5086 non-null object\n",
      "1982                     5086 non-null object\n",
      "1983                     5086 non-null object\n",
      "1984                     5086 non-null object\n",
      "1985                     5086 non-null object\n",
      "1986                     5086 non-null object\n",
      "1987                     5086 non-null object\n",
      "1988                     5086 non-null object\n",
      "1989                     5086 non-null object\n",
      "1990                     5086 non-null object\n",
      "1991                     5086 non-null object\n",
      "1992                     5086 non-null object\n",
      "1993                     5086 non-null object\n",
      "1994                     5086 non-null object\n",
      "1995                     5086 non-null object\n",
      "1996                     5086 non-null object\n",
      "1997                     5086 non-null object\n",
      "1998                     5086 non-null object\n",
      "1999                     5086 non-null object\n",
      "2000                     5086 non-null object\n",
      "2001                     5086 non-null object\n",
      "2002                     5086 non-null object\n",
      "2003                     5086 non-null object\n",
      "2004                     5086 non-null object\n",
      "2005                     5086 non-null object\n",
      "2006                     5086 non-null object\n",
      "2007                     5086 non-null object\n",
      "2008                     5086 non-null object\n",
      "2009                     5086 non-null object\n",
      "2010                     5086 non-null object\n",
      "2011                     5086 non-null object\n",
      "2012                     5086 non-null object\n",
      "2013                     5086 non-null object\n",
      "2014                     5086 non-null object\n",
      "2015                     5086 non-null object\n",
      "2016                     5086 non-null object\n",
      "2017                     5086 non-null object\n",
      "2018                     5086 non-null object\n",
      "2019                     5086 non-null object\n",
      "2020                     5086 non-null object\n",
      "2021                     5086 non-null object\n",
      "dtypes: float64(2), int64(3), object(68)\n",
      "memory usage: 2.8+ MB\n"
     ]
    }
   ],
   "source": [
    "# see datatypes and high-level view of missing data\n",
    "# watch points:\n",
    "# - is the number of rows in the ballpark?\n",
    "# - are there codes coming in as numeric datatypes?\n",
    "# - are there columns with unexpected null values?\n",
    "# - are any of these column names going to be annoying?\n",
    "# - NumPy loves floats! Are you planning to do any math?\n",
    "\n",
    "outlays.info()"
   ]
  },
  {
   "cell_type": "code",
   "execution_count": 14,
   "metadata": {
    "collapsed": false,
    "slideshow": {
     "slide_type": "subslide"
    }
   },
   "outputs": [
    {
     "name": "stderr",
     "output_type": "stream",
     "text": [
      "/Users/rebeccasweger/miniconda3/envs/pandas-munging/lib/python3.5/site-packages/numpy/lib/function_base.py:3834: RuntimeWarning: Invalid value encountered in percentile\n",
      "  RuntimeWarning)\n"
     ]
    },
    {
     "data": {
      "text/html": [
       "<div>\n",
       "<table border=\"1\" class=\"dataframe\">\n",
       "  <thead>\n",
       "    <tr style=\"text-align: right;\">\n",
       "      <th></th>\n",
       "      <th>Agency Code</th>\n",
       "      <th>Bureau Code</th>\n",
       "      <th>Account Code</th>\n",
       "      <th>Treasury Agency Code</th>\n",
       "      <th>Subfunction Code</th>\n",
       "    </tr>\n",
       "  </thead>\n",
       "  <tbody>\n",
       "    <tr>\n",
       "      <th>count</th>\n",
       "      <td>5086.000000</td>\n",
       "      <td>5086.000000</td>\n",
       "      <td>5048.00000</td>\n",
       "      <td>4944.000000</td>\n",
       "      <td>5086.000000</td>\n",
       "    </tr>\n",
       "    <tr>\n",
       "      <th>mean</th>\n",
       "      <td>106.276838</td>\n",
       "      <td>19.282540</td>\n",
       "      <td>166440.52912</td>\n",
       "      <td>44.419094</td>\n",
       "      <td>484.107943</td>\n",
       "    </tr>\n",
       "    <tr>\n",
       "      <th>std</th>\n",
       "      <td>207.342130</td>\n",
       "      <td>25.213866</td>\n",
       "      <td>285555.50454</td>\n",
       "      <td>32.739532</td>\n",
       "      <td>249.309125</td>\n",
       "    </tr>\n",
       "    <tr>\n",
       "      <th>min</th>\n",
       "      <td>1.000000</td>\n",
       "      <td>0.000000</td>\n",
       "      <td>0.00000</td>\n",
       "      <td>0.000000</td>\n",
       "      <td>51.000000</td>\n",
       "    </tr>\n",
       "    <tr>\n",
       "      <th>25%</th>\n",
       "      <td>9.000000</td>\n",
       "      <td>0.000000</td>\n",
       "      <td>NaN</td>\n",
       "      <td>NaN</td>\n",
       "      <td>302.000000</td>\n",
       "    </tr>\n",
       "    <tr>\n",
       "      <th>50%</th>\n",
       "      <td>15.000000</td>\n",
       "      <td>9.000000</td>\n",
       "      <td>NaN</td>\n",
       "      <td>NaN</td>\n",
       "      <td>452.000000</td>\n",
       "    </tr>\n",
       "    <tr>\n",
       "      <th>75%</th>\n",
       "      <td>27.000000</td>\n",
       "      <td>30.000000</td>\n",
       "      <td>NaN</td>\n",
       "      <td>NaN</td>\n",
       "      <td>751.000000</td>\n",
       "    </tr>\n",
       "    <tr>\n",
       "      <th>max</th>\n",
       "      <td>930.000000</td>\n",
       "      <td>99.000000</td>\n",
       "      <td>997200.00000</td>\n",
       "      <td>99.000000</td>\n",
       "      <td>959.000000</td>\n",
       "    </tr>\n",
       "  </tbody>\n",
       "</table>\n",
       "</div>"
      ],
      "text/plain": [
       "       Agency Code  Bureau Code  Account Code  Treasury Agency Code  \\\n",
       "count  5086.000000  5086.000000    5048.00000           4944.000000   \n",
       "mean    106.276838    19.282540  166440.52912             44.419094   \n",
       "std     207.342130    25.213866  285555.50454             32.739532   \n",
       "min       1.000000     0.000000       0.00000              0.000000   \n",
       "25%       9.000000     0.000000           NaN                   NaN   \n",
       "50%      15.000000     9.000000           NaN                   NaN   \n",
       "75%      27.000000    30.000000           NaN                   NaN   \n",
       "max     930.000000    99.000000  997200.00000             99.000000   \n",
       "\n",
       "       Subfunction Code  \n",
       "count       5086.000000  \n",
       "mean         484.107943  \n",
       "std          249.309125  \n",
       "min           51.000000  \n",
       "25%          302.000000  \n",
       "50%          452.000000  \n",
       "75%          751.000000  \n",
       "max          959.000000  "
      ]
     },
     "execution_count": 14,
     "metadata": {},
     "output_type": "execute_result"
    }
   ],
   "source": [
    "# math!\n",
    "\n",
    "outlays.describe()"
   ]
  },
  {
   "cell_type": "markdown",
   "metadata": {
    "slideshow": {
     "slide_type": "slide"
    }
   },
   "source": [
    "## Fixin' to do\n",
    "\n",
    "* Override data types\n",
    "* Retain leading zeroes\n",
    "* Skip header and footer rows\n",
    "* Convert whitespaces to null/NaN\n",
    "* Use your own column names\n",
    "* Exclude unwanted columns\n",
    "* Ignore blank rows (or not!)\n",
    "* [And more](http://pandas.pydata.org/pandas-docs/stable/io.html \"Pandas IO Tools\")"
   ]
  },
  {
   "cell_type": "markdown",
   "metadata": {
    "slideshow": {
     "slide_type": "slide"
    }
   },
   "source": [
    "# Step 2A: Get the Data Again\n",
    "\n",
    "Yeah, you'll probably have to do that."
   ]
  },
  {
   "cell_type": "code",
   "execution_count": 15,
   "metadata": {
    "collapsed": false,
    "slideshow": {
     "slide_type": "subslide"
    }
   },
   "outputs": [
    {
     "name": "stdout",
     "output_type": "stream",
     "text": [
      "0    001\n",
      "1    001\n",
      "2    001\n",
      "3    001\n",
      "4    001\n",
      "Name: Agency Code, dtype: object\n"
     ]
    },
    {
     "data": {
      "text/plain": [
       "count    5.086000e+03\n",
       "mean     4.831051e+04\n",
       "std      9.241268e+05\n",
       "min     -8.294670e+06\n",
       "25%      0.000000e+00\n",
       "50%      0.000000e+00\n",
       "75%      0.000000e+00\n",
       "max      4.295570e+07\n",
       "Name: 1973, dtype: float64"
      ]
     },
     "execution_count": 15,
     "metadata": {},
     "output_type": "execute_result"
    }
   ],
   "source": [
    "# some better data types\n",
    "# - force selected columns to string/object\n",
    "# - thousands parameter ensures incoming numbers w/ commas are not interpreted as string\n",
    "\n",
    "outlays = pd.read_csv(\n",
    "    'data/outlays.csv',\n",
    "    thousands=',',\n",
    "    dtype={'Agency Code': str,\n",
    "           'Bureau Code': str,\n",
    "           'Account Code': str,\n",
    "           'Treasury Agency Code': str,\n",
    "           'Subfunction Code': str}\n",
    "    )\n",
    "print(outlays['Agency Code'].head())\n",
    "outlays['1973'].describe()"
   ]
  },
  {
   "cell_type": "code",
   "execution_count": 16,
   "metadata": {
    "collapsed": false,
    "slideshow": {
     "slide_type": "subslide"
    }
   },
   "outputs": [
    {
     "data": {
      "text/html": [
       "<div>\n",
       "<table border=\"1\" class=\"dataframe\">\n",
       "  <thead>\n",
       "    <tr style=\"text-align: right;\">\n",
       "      <th></th>\n",
       "      <th>fiscal_year</th>\n",
       "      <th>gdp_billions</th>\n",
       "      <th>deflator</th>\n",
       "    </tr>\n",
       "  </thead>\n",
       "  <tbody>\n",
       "    <tr>\n",
       "      <th>0</th>\n",
       "      <td>1940</td>\n",
       "      <td>98.2</td>\n",
       "      <td>0.0809</td>\n",
       "    </tr>\n",
       "    <tr>\n",
       "      <th>1</th>\n",
       "      <td>1941</td>\n",
       "      <td>116.2</td>\n",
       "      <td>0.0840</td>\n",
       "    </tr>\n",
       "    <tr>\n",
       "      <th>2</th>\n",
       "      <td>1942</td>\n",
       "      <td>147.7</td>\n",
       "      <td>0.0902</td>\n",
       "    </tr>\n",
       "    <tr>\n",
       "      <th>3</th>\n",
       "      <td>1943</td>\n",
       "      <td>184.6</td>\n",
       "      <td>0.0961</td>\n",
       "    </tr>\n",
       "    <tr>\n",
       "      <th>4</th>\n",
       "      <td>1944</td>\n",
       "      <td>213.8</td>\n",
       "      <td>0.0995</td>\n",
       "    </tr>\n",
       "  </tbody>\n",
       "</table>\n",
       "</div>"
      ],
      "text/plain": [
       "  fiscal_year  gdp_billions  deflator\n",
       "0        1940          98.2    0.0809\n",
       "1        1941         116.2    0.0840\n",
       "2        1942         147.7    0.0902\n",
       "3        1943         184.6    0.0961\n",
       "4        1944         213.8    0.0995"
      ]
     },
     "execution_count": 16,
     "metadata": {},
     "output_type": "execute_result"
    }
   ],
   "source": [
    "# take 2: deflators\n",
    "# - only take the 1st 3 columns\n",
    "# - specify better header names\n",
    "# - ignore header rows in spreadsheet\n",
    "# - ignore the footer row\n",
    "\n",
    "deflators = pd.read_excel('data/hist10z1.xls', \n",
    "                  parse_cols=2,\n",
    "                  names=['fiscal_year', 'gdp_billions', 'deflator'],\n",
    "                  header=None,\n",
    "                  skiprows=5,\n",
    "                  skip_footer=1\n",
    "                 )\n",
    "deflators.head()"
   ]
  },
  {
   "cell_type": "markdown",
   "metadata": {
    "slideshow": {
     "slide_type": "slide"
    }
   },
   "source": [
    "# Step 3: Clean\n",
    "\n",
    "The annoying stuff."
   ]
  },
  {
   "cell_type": "markdown",
   "metadata": {
    "slideshow": {
     "slide_type": "slide"
    }
   },
   "source": [
    "## For example\n",
    "\n",
    "* [Renaming](http://pandas.pydata.org/pandas-docs/stable/generated/pandas.DataFrame.rename.html \"pandas renaming\")\n",
    "* [Handling missing values](http://pandas.pydata.org/pandas-docs/stable/missing_data.html \"pandas: working with missing data\")\n",
    "* Delete unecessary data\n",
    "* [Clean up strings](http://pandas.pydata.org/pandas-docs/stable/text.html \"working with strings\")\n",
    "* [Tidy data](https://www.jstatsoft.org/article/view/v059i10 \"Tidy Data by Hadley Wickham\")\n"
   ]
  },
  {
   "cell_type": "markdown",
   "metadata": {
    "slideshow": {
     "slide_type": "slide"
    }
   },
   "source": [
    "## Clean up outlays"
   ]
  },
  {
   "cell_type": "code",
   "execution_count": 17,
   "metadata": {
    "collapsed": false,
    "slideshow": {
     "slide_type": "subslide"
    }
   },
   "outputs": [
    {
     "data": {
      "text/plain": [
       "Index(['agency_code', 'agency_name', 'bureau_code', 'bureau_name',\n",
       "       'account_code', 'account_name', 'treasury_agency_code',\n",
       "       'subfunction_code', 'subfunction_name', 'bea_category', 'grant_split',\n",
       "       'on_off_budget', '1962', '1963', '1964', '1965', '1966', '1967', '1968',\n",
       "       '1969', '1970', '1971', '1972', '1973', '1974', '1975', '1976', 'TQ',\n",
       "       '1977', '1978', '1979', '1980', '1981', '1982', '1983', '1984', '1985',\n",
       "       '1986', '1987', '1988', '1989', '1990', '1991', '1992', '1993', '1994',\n",
       "       '1995', '1996', '1997', '1998', '1999', '2000', '2001', '2002', '2003',\n",
       "       '2004', '2005', '2006', '2007', '2008', '2009', '2010', '2011', '2012',\n",
       "       '2013', '2014', '2015', '2016', '2017', '2018', '2019', '2020', '2021'],\n",
       "      dtype='object')"
      ]
     },
     "execution_count": 17,
     "metadata": {},
     "output_type": "execute_result"
    }
   ],
   "source": [
    "# Rename some columns\n",
    "\n",
    "outlays = outlays.rename(columns = {\n",
    "        'Agency Code': 'agency_code',\n",
    "        'Agency Name': 'agency_name',\n",
    "        'Bureau Code': 'bureau_code',\n",
    "        'Bureau Name': 'bureau_name',\n",
    "        'Account Code': 'account_code',\n",
    "        'Account Name': 'account_name',\n",
    "        'Treasury Agency Code': 'treasury_agency_code',\n",
    "        'Subfunction Code': 'subfunction_code',\n",
    "        'Subfunction Title': 'subfunction_name',\n",
    "        'BEA Category': 'bea_category',\n",
    "        'Grant/non-grant split': 'grant_split',\n",
    "        'On- or Off- Budget': 'on_off_budget'\n",
    "    })\n",
    "outlays.columns"
   ]
  },
  {
   "cell_type": "code",
   "execution_count": 18,
   "metadata": {
    "collapsed": true,
    "slideshow": {
     "slide_type": "subslide"
    }
   },
   "outputs": [],
   "source": [
    "# Extraneous information\n",
    "\n",
    "del outlays['TQ']"
   ]
  },
  {
   "cell_type": "code",
   "execution_count": 19,
   "metadata": {
    "collapsed": false,
    "slideshow": {
     "slide_type": "subslide"
    }
   },
   "outputs": [
    {
     "name": "stdout",
     "output_type": "stream",
     "text": [
      "  account_code treasury_agency_code  2012\n",
      "0          NaN                  NaN     0\n",
      "1          NaN                  NaN     0\n",
      "  account_code treasury_agency_code  2012\n",
      "0      missing              missing     0\n",
      "1      missing              missing     0\n"
     ]
    }
   ],
   "source": [
    "# Missing values\n",
    "\n",
    "print(outlays[['account_code', 'treasury_agency_code', '2012']].head(2))\n",
    "outlays = outlays.fillna({\n",
    "        'account_code': 'missing',\n",
    "        'treasury_agency_code': 'missing',\n",
    "        '1962': 0 # not needed here, but included as an example\n",
    "    })\n",
    "print(outlays[['account_code', 'treasury_agency_code', '2012']].head(2))"
   ]
  },
  {
   "cell_type": "code",
   "execution_count": 20,
   "metadata": {
    "collapsed": false,
    "slideshow": {
     "slide_type": "subslide"
    }
   },
   "outputs": [
    {
     "name": "stdout",
     "output_type": "stream",
     "text": [
      "['Receipts, Central fiscal operations'\n",
      " 'Charges for services to trust funds' 'Senate' ...,\n",
      " 'Interest, Miscellaneous Trust Funds, Government-wide'\n",
      " 'Interest, Other DOD Trust Funds'\n",
      " 'Miscellaneous Unconverted Offsetting Receipts']\n",
      "['receipts, central fiscal operations'\n",
      " 'charges for services to trust funds' 'senate' ...,\n",
      " 'interest, miscellaneous trust funds, government-wide'\n",
      " 'interest, other dod trust funds'\n",
      " 'miscellaneous unconverted offsetting receipts']\n",
      "['receipts, central fiscal operations'\n",
      " 'charges for services to trust funds' 'senate' ...,\n",
      " 'interest, miscellaneous trust funds, government-wide'\n",
      " 'interest, other DOD trust funds'\n",
      " 'miscellaneous unconverted offsetting receipts']\n"
     ]
    }
   ],
   "source": [
    "# string clean-up\n",
    "print(pd.unique(outlays.account_name.ravel()))\n",
    "outlays.account_name = outlays.account_name.str.strip().str.lower()\n",
    "print(pd.unique(outlays.account_name.ravel()))\n",
    "\n",
    "# oops capitalize DOD again\n",
    "outlays.account_name = outlays.account_name.str.replace(' dod ', ' DOD ') # regex works too\n",
    "print(pd.unique(outlays.account_name.ravel()))\n",
    "\n",
    "outlays.subfunction_title = outlays.account_name.str.strip().str.lower()\n",
    "outlays.bea_category = outlays.bea_category.str.lower()"
   ]
  },
  {
   "cell_type": "code",
   "execution_count": 21,
   "metadata": {
    "collapsed": false,
    "slideshow": {
     "slide_type": "subslide"
    }
   },
   "outputs": [
    {
     "data": {
      "text/plain": [
       "2423"
      ]
     },
     "execution_count": 21,
     "metadata": {},
     "output_type": "execute_result"
    }
   ],
   "source": [
    "# get discretionary spending only\n",
    "\n",
    "disc = outlays[outlays['bea_category'] == 'discretionary']\n",
    "# gut check number of rows\n",
    "len(disc.index)"
   ]
  },
  {
   "cell_type": "markdown",
   "metadata": {
    "slideshow": {
     "slide_type": "slide"
    }
   },
   "source": [
    "## Clean up deflators"
   ]
  },
  {
   "cell_type": "code",
   "execution_count": 22,
   "metadata": {
    "collapsed": false,
    "slideshow": {
     "slide_type": "subslide"
    }
   },
   "outputs": [
    {
     "name": "stdout",
     "output_type": "stream",
     "text": [
      "['1940' '1941' '1942' '1943' '1944' '1945' '1946' '1947' '1948' '1949'\n",
      " '1950' '1951' '1952' '1953' '1954' '1955' '1956' '1957' '1958' '1959'\n",
      " '1960' '1961' '1962' '1963' '1964' '1965' '1966' '1967' '1968' '1969'\n",
      " '1970' '1971' '1972' '1973' '1974' '1975' '1976' 'TQ' '1977' '1978' '1979'\n",
      " '1980' '1981' '1982' '1983' '1984' '1985' '1986' '1987' '1988' '1989'\n",
      " '1990' '1991' '1992' '1993' '1994' '1995' '1996' '1997' '1998' '1999'\n",
      " '2000' '2001' '2002' '2003' '2004' '2005' '2006' '2007' '2008' '2009'\n",
      " '2010' '2011' '2012' '2013' '2014' '2015' '2016 estimate' '2017 estimate'\n",
      " '2018 estimate' '2019 estimate' '2020 estimate' '2021 estimate']\n",
      "\n",
      "['1940' '1941' '1942' '1943' '1944' '1945' '1946' '1947' '1948' '1949'\n",
      " '1950' '1951' '1952' '1953' '1954' '1955' '1956' '1957' '1958' '1959'\n",
      " '1960' '1961' '1962' '1963' '1964' '1965' '1966' '1967' '1968' '1969'\n",
      " '1970' '1971' '1972' '1973' '1974' '1975' '1976' 'TQ' '1977' '1978' '1979'\n",
      " '1980' '1981' '1982' '1983' '1984' '1985' '1986' '1987' '1988' '1989'\n",
      " '1990' '1991' '1992' '1993' '1994' '1995' '1996' '1997' '1998' '1999'\n",
      " '2000' '2001' '2002' '2003' '2004' '2005' '2006' '2007' '2008' '2009'\n",
      " '2010' '2011' '2012' '2013' '2014' '2015' '2016' '2017' '2018' '2019'\n",
      " '2020' '2021']\n"
     ]
    }
   ],
   "source": [
    "# clean up year column\n",
    "# - get rid of the \"estimate\" text by applying a function to the fiscal_year Series\n",
    "\n",
    "print(deflators.fiscal_year.unique())\n",
    "deflators.fiscal_year = deflators.fiscal_year.map(lambda x: x[:4])\n",
    "print('\\n{}'.format(deflators.fiscal_year.unique()))"
   ]
  },
  {
   "cell_type": "markdown",
   "metadata": {
    "slideshow": {
     "slide_type": "slide"
    }
   },
   "source": [
    "## Step 3A: Tidy Data \n",
    "\n",
    "> \n",
    "> **_Datasets are often constructed in bizarre ways_**\n",
    "> \n",
    "\n",
    "\\- Hadley Wickham, in his 2014 paper _Tidy Data_ ([Journal of Statistical Software, August 2014](https://www.jstatsoft.org/article/view/v059i10))"
   ]
  },
  {
   "cell_type": "markdown",
   "metadata": {
    "slideshow": {
     "slide_type": "subslide"
    }
   },
   "source": [
    "### Principles of Tidy Data\n",
    "\n",
    "* each variable is a column\n",
    "* each observation is a row\n",
    "* each type of observational unit is a table\n",
    "* easy to model, manipulate, and visualize"
   ]
  },
  {
   "cell_type": "code",
   "execution_count": 24,
   "metadata": {
    "collapsed": false,
    "slideshow": {
     "slide_type": "subslide"
    }
   },
   "outputs": [
    {
     "data": {
      "text/html": [
       "<div>\n",
       "<table border=\"1\" class=\"dataframe\">\n",
       "  <thead>\n",
       "    <tr style=\"text-align: right;\">\n",
       "      <th></th>\n",
       "      <th>agency_code</th>\n",
       "      <th>agency_name</th>\n",
       "      <th>bureau_code</th>\n",
       "      <th>bureau_name</th>\n",
       "      <th>account_code</th>\n",
       "      <th>account_name</th>\n",
       "      <th>treasury_agency_code</th>\n",
       "      <th>subfunction_code</th>\n",
       "      <th>subfunction_name</th>\n",
       "      <th>bea_category</th>\n",
       "      <th>grant_split</th>\n",
       "      <th>on_off_budget</th>\n",
       "      <th>fiscal_year</th>\n",
       "      <th>amount</th>\n",
       "    </tr>\n",
       "  </thead>\n",
       "  <tbody>\n",
       "    <tr>\n",
       "      <th>0</th>\n",
       "      <td>001</td>\n",
       "      <td>Legislative Branch</td>\n",
       "      <td>00</td>\n",
       "      <td>Legislative Branch</td>\n",
       "      <td>missing</td>\n",
       "      <td>receipts, central fiscal operations</td>\n",
       "      <td>missing</td>\n",
       "      <td>803</td>\n",
       "      <td>Central fiscal operations</td>\n",
       "      <td>mandatory</td>\n",
       "      <td>Nongrant</td>\n",
       "      <td>On-budget</td>\n",
       "      <td>1962</td>\n",
       "      <td>-628</td>\n",
       "    </tr>\n",
       "    <tr>\n",
       "      <th>1</th>\n",
       "      <td>001</td>\n",
       "      <td>Legislative Branch</td>\n",
       "      <td>00</td>\n",
       "      <td>Legislative Branch</td>\n",
       "      <td>missing</td>\n",
       "      <td>receipts, central fiscal operations</td>\n",
       "      <td>missing</td>\n",
       "      <td>908</td>\n",
       "      <td>Other interest</td>\n",
       "      <td>net interest</td>\n",
       "      <td>Nongrant</td>\n",
       "      <td>On-budget</td>\n",
       "      <td>1962</td>\n",
       "      <td>0</td>\n",
       "    </tr>\n",
       "    <tr>\n",
       "      <th>2</th>\n",
       "      <td>001</td>\n",
       "      <td>Legislative Branch</td>\n",
       "      <td>00</td>\n",
       "      <td>Legislative Branch</td>\n",
       "      <td>241400</td>\n",
       "      <td>charges for services to trust funds</td>\n",
       "      <td>missing</td>\n",
       "      <td>803</td>\n",
       "      <td>Central fiscal operations</td>\n",
       "      <td>mandatory</td>\n",
       "      <td>Nongrant</td>\n",
       "      <td>On-budget</td>\n",
       "      <td>1962</td>\n",
       "      <td>0</td>\n",
       "    </tr>\n",
       "    <tr>\n",
       "      <th>3</th>\n",
       "      <td>001</td>\n",
       "      <td>Legislative Branch</td>\n",
       "      <td>05</td>\n",
       "      <td>Senate</td>\n",
       "      <td>0000</td>\n",
       "      <td>senate</td>\n",
       "      <td>00</td>\n",
       "      <td>801</td>\n",
       "      <td>Legislative functions</td>\n",
       "      <td>discretionary</td>\n",
       "      <td>Nongrant</td>\n",
       "      <td>On-budget</td>\n",
       "      <td>1962</td>\n",
       "      <td>26946</td>\n",
       "    </tr>\n",
       "    <tr>\n",
       "      <th>4</th>\n",
       "      <td>001</td>\n",
       "      <td>Legislative Branch</td>\n",
       "      <td>05</td>\n",
       "      <td>Senate</td>\n",
       "      <td>0100</td>\n",
       "      <td>compensation of members, senate</td>\n",
       "      <td>00</td>\n",
       "      <td>801</td>\n",
       "      <td>Legislative functions</td>\n",
       "      <td>mandatory</td>\n",
       "      <td>Nongrant</td>\n",
       "      <td>On-budget</td>\n",
       "      <td>1962</td>\n",
       "      <td>0</td>\n",
       "    </tr>\n",
       "  </tbody>\n",
       "</table>\n",
       "</div>"
      ],
      "text/plain": [
       "  agency_code         agency_name bureau_code         bureau_name  \\\n",
       "0         001  Legislative Branch          00  Legislative Branch   \n",
       "1         001  Legislative Branch          00  Legislative Branch   \n",
       "2         001  Legislative Branch          00  Legislative Branch   \n",
       "3         001  Legislative Branch          05              Senate   \n",
       "4         001  Legislative Branch          05              Senate   \n",
       "\n",
       "  account_code                         account_name treasury_agency_code  \\\n",
       "0      missing  receipts, central fiscal operations              missing   \n",
       "1      missing  receipts, central fiscal operations              missing   \n",
       "2       241400  charges for services to trust funds              missing   \n",
       "3         0000                               senate                   00   \n",
       "4         0100      compensation of members, senate                   00   \n",
       "\n",
       "  subfunction_code           subfunction_name   bea_category grant_split  \\\n",
       "0              803  Central fiscal operations      mandatory    Nongrant   \n",
       "1              908             Other interest   net interest    Nongrant   \n",
       "2              803  Central fiscal operations      mandatory    Nongrant   \n",
       "3              801      Legislative functions  discretionary    Nongrant   \n",
       "4              801      Legislative functions      mandatory    Nongrant   \n",
       "\n",
       "  on_off_budget fiscal_year  amount  \n",
       "0     On-budget        1962    -628  \n",
       "1     On-budget        1962       0  \n",
       "2     On-budget        1962       0  \n",
       "3     On-budget        1962   26946  \n",
       "4     On-budget        1962       0  "
      ]
     },
     "execution_count": 24,
     "metadata": {},
     "output_type": "execute_result"
    }
   ],
   "source": [
    "# tidy the outlays (aka spending) dataset\n",
    "# - variables = agency, bureau, account, year, subfunction, etc.\n",
    "# - observation = dollar amount\n",
    "\n",
    "# list of dataframe columns to use as identifier variables\n",
    "# (all columns not listed will be unpivoted and added an additional identifier columm)\n",
    "variables = ['agency_code', 'agency_name', 'bureau_code', 'bureau_name', 'account_code', 'account_name', 'treasury_agency_code', 'subfunction_code', 'subfunction_name', 'bea_category', 'grant_split', 'on_off_budget'] \n",
    "outlays = pd.melt(outlays,\n",
    "               id_vars=variables,\n",
    "               # name of the new, unpivoted identifier column\n",
    "               var_name='fiscal_year',\n",
    "               # name of the value column for the unpivoted data\n",
    "               value_name='amount'\n",
    "              )\n",
    "\n",
    "outlays.head()"
   ]
  },
  {
   "cell_type": "markdown",
   "metadata": {
    "slideshow": {
     "slide_type": "slide"
    }
   },
   "source": [
    "### Useful Pandas Tidy-ing Functions\n",
    "\n",
    "* [melt](http://pandas.pydata.org/pandas-docs/stable/generated/pandas.melt.html \"pandas.melt\")\n",
    "* [stack](http://pandas.pydata.org/pandas-docs/stable/generated/pandas.DataFrame.stack.html \"pandas.DataFrame.stack\")\n",
    "* [unstack](http://pandas.pydata.org/pandas-docs/stable/generated/pandas.DataFrame.unstack.html \"pandas.DataFrame.unstack\")\n",
    "* [pivot_table](http://pandas.pydata.org/pandas-docs/stable/generated/pandas.pivot_table.html \"pandas.pivot_table\")\n",
    "\n",
    "See also:\n",
    "* Pandas docs: [Reshaping and pivot tables](http://pandas.pydata.org/pandas-docs/stable/reshaping.html \"Pandas: reshaping and pivot tables\")\n",
    "* [Tidy Data in Python](https://www.ibm.com/developerworks/community/blogs/jfp/entry/Tidy_Data_In_Python?lang=en \"Tidy Data in Python\")\n",
    "\n"
   ]
  },
  {
   "cell_type": "markdown",
   "metadata": {
    "slideshow": {
     "slide_type": "slide"
    }
   },
   "source": [
    "# Step 4: Fun Stuff"
   ]
  },
  {
   "cell_type": "markdown",
   "metadata": {
    "slideshow": {
     "slide_type": "slide"
    }
   },
   "source": [
    "## Calculating New Columns\n",
    "\n",
    "We need inflation-adjusted amounts to look at spending trends over time."
   ]
  },
  {
   "cell_type": "code",
   "execution_count": 26,
   "metadata": {
    "collapsed": false,
    "slideshow": {
     "slide_type": "subslide"
    }
   },
   "outputs": [
    {
     "data": {
      "text/html": [
       "<div>\n",
       "<table border=\"1\" class=\"dataframe\">\n",
       "  <thead>\n",
       "    <tr style=\"text-align: right;\">\n",
       "      <th></th>\n",
       "      <th>agency_code</th>\n",
       "      <th>agency_name</th>\n",
       "      <th>bureau_code</th>\n",
       "      <th>bureau_name</th>\n",
       "      <th>account_code</th>\n",
       "      <th>account_name</th>\n",
       "      <th>treasury_agency_code</th>\n",
       "      <th>subfunction_code</th>\n",
       "      <th>subfunction_name</th>\n",
       "      <th>bea_category</th>\n",
       "      <th>grant_split</th>\n",
       "      <th>on_off_budget</th>\n",
       "      <th>fiscal_year</th>\n",
       "      <th>amount</th>\n",
       "      <th>gdp_billions</th>\n",
       "      <th>deflator</th>\n",
       "    </tr>\n",
       "  </thead>\n",
       "  <tbody>\n",
       "    <tr>\n",
       "      <th>0</th>\n",
       "      <td>001</td>\n",
       "      <td>Legislative Branch</td>\n",
       "      <td>00</td>\n",
       "      <td>Legislative Branch</td>\n",
       "      <td>missing</td>\n",
       "      <td>receipts, central fiscal operations</td>\n",
       "      <td>missing</td>\n",
       "      <td>803</td>\n",
       "      <td>Central fiscal operations</td>\n",
       "      <td>mandatory</td>\n",
       "      <td>Nongrant</td>\n",
       "      <td>On-budget</td>\n",
       "      <td>1962</td>\n",
       "      <td>-628</td>\n",
       "      <td>586.9</td>\n",
       "      <td>0.1783</td>\n",
       "    </tr>\n",
       "    <tr>\n",
       "      <th>1</th>\n",
       "      <td>001</td>\n",
       "      <td>Legislative Branch</td>\n",
       "      <td>00</td>\n",
       "      <td>Legislative Branch</td>\n",
       "      <td>missing</td>\n",
       "      <td>receipts, central fiscal operations</td>\n",
       "      <td>missing</td>\n",
       "      <td>908</td>\n",
       "      <td>Other interest</td>\n",
       "      <td>net interest</td>\n",
       "      <td>Nongrant</td>\n",
       "      <td>On-budget</td>\n",
       "      <td>1962</td>\n",
       "      <td>0</td>\n",
       "      <td>586.9</td>\n",
       "      <td>0.1783</td>\n",
       "    </tr>\n",
       "    <tr>\n",
       "      <th>2</th>\n",
       "      <td>001</td>\n",
       "      <td>Legislative Branch</td>\n",
       "      <td>00</td>\n",
       "      <td>Legislative Branch</td>\n",
       "      <td>241400</td>\n",
       "      <td>charges for services to trust funds</td>\n",
       "      <td>missing</td>\n",
       "      <td>803</td>\n",
       "      <td>Central fiscal operations</td>\n",
       "      <td>mandatory</td>\n",
       "      <td>Nongrant</td>\n",
       "      <td>On-budget</td>\n",
       "      <td>1962</td>\n",
       "      <td>0</td>\n",
       "      <td>586.9</td>\n",
       "      <td>0.1783</td>\n",
       "    </tr>\n",
       "    <tr>\n",
       "      <th>3</th>\n",
       "      <td>001</td>\n",
       "      <td>Legislative Branch</td>\n",
       "      <td>05</td>\n",
       "      <td>Senate</td>\n",
       "      <td>0000</td>\n",
       "      <td>senate</td>\n",
       "      <td>00</td>\n",
       "      <td>801</td>\n",
       "      <td>Legislative functions</td>\n",
       "      <td>discretionary</td>\n",
       "      <td>Nongrant</td>\n",
       "      <td>On-budget</td>\n",
       "      <td>1962</td>\n",
       "      <td>26946</td>\n",
       "      <td>586.9</td>\n",
       "      <td>0.1783</td>\n",
       "    </tr>\n",
       "    <tr>\n",
       "      <th>4</th>\n",
       "      <td>001</td>\n",
       "      <td>Legislative Branch</td>\n",
       "      <td>05</td>\n",
       "      <td>Senate</td>\n",
       "      <td>0100</td>\n",
       "      <td>compensation of members, senate</td>\n",
       "      <td>00</td>\n",
       "      <td>801</td>\n",
       "      <td>Legislative functions</td>\n",
       "      <td>mandatory</td>\n",
       "      <td>Nongrant</td>\n",
       "      <td>On-budget</td>\n",
       "      <td>1962</td>\n",
       "      <td>0</td>\n",
       "      <td>586.9</td>\n",
       "      <td>0.1783</td>\n",
       "    </tr>\n",
       "  </tbody>\n",
       "</table>\n",
       "</div>"
      ],
      "text/plain": [
       "  agency_code         agency_name bureau_code         bureau_name  \\\n",
       "0         001  Legislative Branch          00  Legislative Branch   \n",
       "1         001  Legislative Branch          00  Legislative Branch   \n",
       "2         001  Legislative Branch          00  Legislative Branch   \n",
       "3         001  Legislative Branch          05              Senate   \n",
       "4         001  Legislative Branch          05              Senate   \n",
       "\n",
       "  account_code                         account_name treasury_agency_code  \\\n",
       "0      missing  receipts, central fiscal operations              missing   \n",
       "1      missing  receipts, central fiscal operations              missing   \n",
       "2       241400  charges for services to trust funds              missing   \n",
       "3         0000                               senate                   00   \n",
       "4         0100      compensation of members, senate                   00   \n",
       "\n",
       "  subfunction_code           subfunction_name   bea_category grant_split  \\\n",
       "0              803  Central fiscal operations      mandatory    Nongrant   \n",
       "1              908             Other interest   net interest    Nongrant   \n",
       "2              803  Central fiscal operations      mandatory    Nongrant   \n",
       "3              801      Legislative functions  discretionary    Nongrant   \n",
       "4              801      Legislative functions      mandatory    Nongrant   \n",
       "\n",
       "  on_off_budget fiscal_year  amount  gdp_billions  deflator  \n",
       "0     On-budget        1962    -628         586.9    0.1783  \n",
       "1     On-budget        1962       0         586.9    0.1783  \n",
       "2     On-budget        1962       0         586.9    0.1783  \n",
       "3     On-budget        1962   26946         586.9    0.1783  \n",
       "4     On-budget        1962       0         586.9    0.1783  "
      ]
     },
     "execution_count": 26,
     "metadata": {},
     "output_type": "execute_result"
    }
   ],
   "source": [
    "# merge discretionary outlays and deflators dataframes\n",
    "# - by default Pandas will use like column names as the merge key\n",
    "# - this is very intuitive for SQL nerds\n",
    "\n",
    "outlays = outlays.merge(deflators, how='left')\n",
    "outlays.head()"
   ]
  },
  {
   "cell_type": "code",
   "execution_count": 28,
   "metadata": {
    "collapsed": false,
    "slideshow": {
     "slide_type": "subslide"
    }
   },
   "outputs": [
    {
     "data": {
      "text/html": [
       "<div>\n",
       "<table border=\"1\" class=\"dataframe\">\n",
       "  <thead>\n",
       "    <tr style=\"text-align: right;\">\n",
       "      <th></th>\n",
       "      <th>fiscal_year</th>\n",
       "      <th>amount</th>\n",
       "      <th>amount_adj</th>\n",
       "    </tr>\n",
       "  </thead>\n",
       "  <tbody>\n",
       "    <tr>\n",
       "      <th>0</th>\n",
       "      <td>1962</td>\n",
       "      <td>-628</td>\n",
       "      <td>-3522.153674</td>\n",
       "    </tr>\n",
       "    <tr>\n",
       "      <th>1</th>\n",
       "      <td>1962</td>\n",
       "      <td>0</td>\n",
       "      <td>0.000000</td>\n",
       "    </tr>\n",
       "    <tr>\n",
       "      <th>2</th>\n",
       "      <td>1962</td>\n",
       "      <td>0</td>\n",
       "      <td>0.000000</td>\n",
       "    </tr>\n",
       "    <tr>\n",
       "      <th>3</th>\n",
       "      <td>1962</td>\n",
       "      <td>26946</td>\n",
       "      <td>151127.313517</td>\n",
       "    </tr>\n",
       "    <tr>\n",
       "      <th>4</th>\n",
       "      <td>1962</td>\n",
       "      <td>0</td>\n",
       "      <td>0.000000</td>\n",
       "    </tr>\n",
       "  </tbody>\n",
       "</table>\n",
       "</div>"
      ],
      "text/plain": [
       "  fiscal_year  amount     amount_adj\n",
       "0        1962    -628   -3522.153674\n",
       "1        1962       0       0.000000\n",
       "2        1962       0       0.000000\n",
       "3        1962   26946  151127.313517\n",
       "4        1962       0       0.000000"
      ]
     },
     "execution_count": 28,
     "metadata": {},
     "output_type": "execute_result"
    }
   ],
   "source": [
    "# Add calculated column to represent spending amount in 2009 dollars\n",
    "\n",
    "outlays['amount_adj'] = outlays.amount / outlays.deflator\n",
    "outlays[['fiscal_year', 'amount', 'amount_adj']].head()"
   ]
  },
  {
   "cell_type": "markdown",
   "metadata": {
    "slideshow": {
     "slide_type": "slide"
    }
   },
   "source": [
    "## Grouping\n",
    "\n",
    "Summarize spending by category."
   ]
  },
  {
   "cell_type": "code",
   "execution_count": 30,
   "metadata": {
    "collapsed": false,
    "slideshow": {
     "slide_type": "subslide"
    }
   },
   "outputs": [
    {
     "data": {
      "text/html": [
       "<div>\n",
       "<table border=\"1\" class=\"dataframe\">\n",
       "  <thead>\n",
       "    <tr style=\"text-align: right;\">\n",
       "      <th></th>\n",
       "      <th>budget_function_desc</th>\n",
       "    </tr>\n",
       "    <tr>\n",
       "      <th>budget_function_code</th>\n",
       "      <th></th>\n",
       "    </tr>\n",
       "  </thead>\n",
       "  <tbody>\n",
       "    <tr>\n",
       "      <th>010</th>\n",
       "      <td>national defense</td>\n",
       "    </tr>\n",
       "    <tr>\n",
       "      <th>150</th>\n",
       "      <td>international affairs</td>\n",
       "    </tr>\n",
       "    <tr>\n",
       "      <th>250</th>\n",
       "      <td>general science, space, and technology</td>\n",
       "    </tr>\n",
       "    <tr>\n",
       "      <th>270</th>\n",
       "      <td>energy</td>\n",
       "    </tr>\n",
       "    <tr>\n",
       "      <th>300</th>\n",
       "      <td>natural resources and environment</td>\n",
       "    </tr>\n",
       "  </tbody>\n",
       "</table>\n",
       "</div>"
      ],
      "text/plain": [
       "                                        budget_function_desc\n",
       "budget_function_code                                        \n",
       "010                                         national defense\n",
       "150                                    international affairs\n",
       "250                   general science, space, and technology\n",
       "270                                                   energy\n",
       "300                        natural resources and environment"
      ]
     },
     "execution_count": 30,
     "metadata": {},
     "output_type": "execute_result"
    }
   ],
   "source": [
    "# get a list of budget function codes from sqlite & tweak to use as a lookup\n",
    "\n",
    "from sqlalchemy import create_engine\n",
    "db_engine = create_engine('sqlite:///data/pandas_data_munging.db')\n",
    "functions = pd.read_sql_query(\n",
    "    'SELECT budget_function_code, budget_function_desc FROM budget_function', db_engine\n",
    ")\n",
    "\n",
    "# index/sort the dataframe by budget_function_code\n",
    "functions = functions.set_index(keys='budget_function_code').sort_index()\n",
    "functions.head()"
   ]
  },
  {
   "cell_type": "code",
   "execution_count": 31,
   "metadata": {
    "collapsed": false,
    "slideshow": {
     "slide_type": "subslide"
    }
   },
   "outputs": [
    {
     "data": {
      "text/html": [
       "<div>\n",
       "<table border=\"1\" class=\"dataframe\">\n",
       "  <thead>\n",
       "    <tr style=\"text-align: right;\">\n",
       "      <th></th>\n",
       "      <th>subfunction_name</th>\n",
       "      <th>function_name</th>\n",
       "    </tr>\n",
       "  </thead>\n",
       "  <tbody>\n",
       "    <tr>\n",
       "      <th>305155</th>\n",
       "      <td>Interest received by on-budget trust funds</td>\n",
       "      <td>net interest</td>\n",
       "    </tr>\n",
       "    <tr>\n",
       "      <th>305156</th>\n",
       "      <td>Employer share, employee retirement (on-budget)</td>\n",
       "      <td>undistributed offsetting receipts</td>\n",
       "    </tr>\n",
       "    <tr>\n",
       "      <th>305157</th>\n",
       "      <td>Interest received by on-budget trust funds</td>\n",
       "      <td>net interest</td>\n",
       "    </tr>\n",
       "    <tr>\n",
       "      <th>305158</th>\n",
       "      <td>Interest received by on-budget trust funds</td>\n",
       "      <td>net interest</td>\n",
       "    </tr>\n",
       "    <tr>\n",
       "      <th>305159</th>\n",
       "      <td>Deductions for offsetting receipts</td>\n",
       "      <td>general government</td>\n",
       "    </tr>\n",
       "  </tbody>\n",
       "</table>\n",
       "</div>"
      ],
      "text/plain": [
       "                                       subfunction_name  \\\n",
       "305155       Interest received by on-budget trust funds   \n",
       "305156  Employer share, employee retirement (on-budget)   \n",
       "305157       Interest received by on-budget trust funds   \n",
       "305158       Interest received by on-budget trust funds   \n",
       "305159               Deductions for offsetting receipts   \n",
       "\n",
       "                            function_name  \n",
       "305155                       net interest  \n",
       "305156  undistributed offsetting receipts  \n",
       "305157                       net interest  \n",
       "305158                       net interest  \n",
       "305159                 general government  "
      ]
     },
     "execution_count": 31,
     "metadata": {},
     "output_type": "execute_result"
    }
   ],
   "source": [
    "# use the budget function information from sqllite to add this\n",
    "# higher-level category to our discretionary spending dataframe\n",
    "# (might not be the best approach but demos a few Pandas things)\n",
    "\n",
    "def get_budget_function(sf):\n",
    "    i = functions.index.get_loc(sf, method='ffill')\n",
    "    return functions.iloc[i].budget_function_desc\n",
    "\n",
    "subfunctions = pd.DataFrame(\n",
    "    outlays.subfunction_code.unique(), \n",
    "    columns=['subfunction_code']\n",
    ")\n",
    "subfunctions['function_name'] = subfunctions.subfunction_code.map(\n",
    "    get_budget_function)\n",
    "outlays = outlays.merge(subfunctions, how='left')\n",
    "outlays[['subfunction_name', 'function_name']].tail()"
   ]
  },
  {
   "cell_type": "code",
   "execution_count": 32,
   "metadata": {
    "collapsed": false,
    "slideshow": {
     "slide_type": "subslide"
    }
   },
   "outputs": [
    {
     "data": {
      "text/html": [
       "<div>\n",
       "<table border=\"1\" class=\"dataframe\">\n",
       "  <thead>\n",
       "    <tr style=\"text-align: right;\">\n",
       "      <th></th>\n",
       "      <th></th>\n",
       "      <th>amount_adj</th>\n",
       "    </tr>\n",
       "    <tr>\n",
       "      <th>fiscal_year</th>\n",
       "      <th>function_name</th>\n",
       "      <th></th>\n",
       "    </tr>\n",
       "  </thead>\n",
       "  <tbody>\n",
       "    <tr>\n",
       "      <th rowspan=\"10\" valign=\"top\">2021</th>\n",
       "      <th>income security</th>\n",
       "      <td>4.822165e+08</td>\n",
       "    </tr>\n",
       "    <tr>\n",
       "      <th>international affairs</th>\n",
       "      <td>4.254514e+07</td>\n",
       "    </tr>\n",
       "    <tr>\n",
       "      <th>medicare</th>\n",
       "      <td>6.109208e+08</td>\n",
       "    </tr>\n",
       "    <tr>\n",
       "      <th>national defense</th>\n",
       "      <td>4.981617e+08</td>\n",
       "    </tr>\n",
       "    <tr>\n",
       "      <th>natural resources and environment</th>\n",
       "      <td>3.746543e+07</td>\n",
       "    </tr>\n",
       "    <tr>\n",
       "      <th>net interest</th>\n",
       "      <td>4.670408e+08</td>\n",
       "    </tr>\n",
       "    <tr>\n",
       "      <th>social security</th>\n",
       "      <td>9.999252e+08</td>\n",
       "    </tr>\n",
       "    <tr>\n",
       "      <th>transportation</th>\n",
       "      <td>1.055791e+08</td>\n",
       "    </tr>\n",
       "    <tr>\n",
       "      <th>undistributed offsetting receipts</th>\n",
       "      <td>-8.464698e+07</td>\n",
       "    </tr>\n",
       "    <tr>\n",
       "      <th>veterans benefits and services</th>\n",
       "      <td>1.696852e+08</td>\n",
       "    </tr>\n",
       "  </tbody>\n",
       "</table>\n",
       "</div>"
      ],
      "text/plain": [
       "                                                 amount_adj\n",
       "fiscal_year function_name                                  \n",
       "2021        income security                    4.822165e+08\n",
       "            international affairs              4.254514e+07\n",
       "            medicare                           6.109208e+08\n",
       "            national defense                   4.981617e+08\n",
       "            natural resources and environment  3.746543e+07\n",
       "            net interest                       4.670408e+08\n",
       "            social security                    9.999252e+08\n",
       "            transportation                     1.055791e+08\n",
       "            undistributed offsetting receipts -8.464698e+07\n",
       "            veterans benefits and services     1.696852e+08"
      ]
     },
     "execution_count": 32,
     "metadata": {},
     "output_type": "execute_result"
    }
   ],
   "source": [
    "# group spending by year and category\n",
    "grouped = outlays.groupby(['fiscal_year', 'function_name'])\n",
    " \n",
    "grouped.agg({'amount_adj': 'sum'}).tail(10)"
   ]
  },
  {
   "cell_type": "code",
   "execution_count": 33,
   "metadata": {
    "collapsed": false,
    "slideshow": {
     "slide_type": "subslide"
    }
   },
   "outputs": [
    {
     "data": {
      "image/png": "[encoded data removed]",
      "text/plain": [
       "<matplotlib.figure.Figure at 0x10f09cba8>"
      ]
     },
     "metadata": {},
     "output_type": "display_data"
    }
   ],
   "source": [
    "# use Seaborn library to plot a Pandas DataFrame\n",
    "plot_df = outlays[['fiscal_year', 'function_name', 'amount_adj']]\n",
    "plot_group = plot_df.groupby(['fiscal_year', 'function_name']).sum().reset_index()\n",
    "sns.set(style=\"darkgrid\")\n",
    "ax = sns.tsplot(data=plot_group, time='fiscal_year', unit='function_name', value='amount_adj', err_style=None)"
   ]
  },
  {
   "cell_type": "code",
   "execution_count": 34,
   "metadata": {
    "collapsed": false,
    "slideshow": {
     "slide_type": "subslide"
    }
   },
   "outputs": [
    {
     "data": {
      "text/plain": [
       "fiscal_year\n",
       "1962    18.200926\n",
       "1963    17.974470\n",
       "1964    17.880235\n",
       "1965    16.635402\n",
       "1966    17.205812\n",
       "1967    18.786000\n",
       "1968    19.808094\n",
       "1969    18.694900\n",
       "1970    18.649245\n",
       "1971    18.777101\n",
       "1972    18.916034\n",
       "1973    18.120003\n",
       "1974    18.123995\n",
       "1975    20.634066\n",
       "1976    20.767043\n",
       "1977    20.174431\n",
       "1978    20.136330\n",
       "1979    19.611995\n",
       "1980    21.129200\n",
       "1981    21.611030\n",
       "1982    22.503478\n",
       "1983    22.828060\n",
       "1984    21.549409\n",
       "1985    22.160555\n",
       "1986    21.833331\n",
       "1987    20.996192\n",
       "1988    20.647828\n",
       "1989    20.533992\n",
       "1990    21.184752\n",
       "1991    21.672731\n",
       "1992    21.469983\n",
       "1993    20.741814\n",
       "1994    20.308321\n",
       "1995    19.987631\n",
       "1996    19.559104\n",
       "1997    18.873963\n",
       "1998    18.453321\n",
       "1999    17.894348\n",
       "2000    17.628249\n",
       "2001    17.632906\n",
       "2002    18.487749\n",
       "2003    19.059502\n",
       "2004    18.966969\n",
       "2005    19.178960\n",
       "2006    19.401594\n",
       "2007    19.051212\n",
       "2008    20.217348\n",
       "2009    24.403570\n",
       "2010    23.361010\n",
       "2011    23.428111\n",
       "2012    22.068427\n",
       "2013    20.939666\n",
       "2014    20.403957\n",
       "2015    20.716784\n",
       "2016    21.390791\n",
       "2017    21.485090\n",
       "2018    21.621006\n",
       "2019    22.102496\n",
       "2020    22.260522\n",
       "2021    22.400888\n",
       "dtype: float64"
      ]
     },
     "execution_count": 34,
     "metadata": {},
     "output_type": "execute_result"
    }
   ],
   "source": [
    "# group by years and calculate spending as % of GDP\n",
    "\n",
    "by_year = outlays.groupby('fiscal_year')\n",
    "def percent_gdp(group):\n",
    "    spending = group['amount'] * 1000\n",
    "    gdp = group['gdp_billions'] * 1000000000\n",
    "    return spending.sum() / gdp.max() * 100\n",
    "\n",
    "by_year.apply(percent_gdp)"
   ]
  },
  {
   "cell_type": "markdown",
   "metadata": {
    "slideshow": {
     "slide_type": "slide"
    }
   },
   "source": [
    "## Useful tools:\n",
    "\n",
    "* [Applying operations over pandas DataFrames](http://chrisalbon.com/python/pandas_apply_operations_to_dataframes.html \"Applying operations over Pandas DataFrames\")\n",
    "* Pandas docs: [apply-split-combine](http://pandas.pydata.org/pandas-docs/stable/groupby.html \"Pandas: apply-split-combine\")\n",
    "* Pandas docs: [computational tools](http://pandas.pydata.org/pandas-docs/stable/computation.html \"Pandas: computational tools\") (includes info on percent change, correlation, window functions)\n",
    "* Pandas docs: [time series/date functionality](http://pandas.pydata.org/pandas-docs/stable/timeseries.html \"Pands: time series\")"
   ]
  },
  {
   "cell_type": "markdown",
   "metadata": {
    "slideshow": {
     "slide_type": "slide"
    }
   },
   "source": [
    "# Step 5: Output"
   ]
  },
  {
   "cell_type": "code",
   "execution_count": 35,
   "metadata": {
    "collapsed": false,
    "slideshow": {
     "slide_type": "subslide"
    }
   },
   "outputs": [],
   "source": [
    "# filter out the columns we don't want to write out\n",
    "# (ran out of time to find a way to get rid of both columns in one line)\n",
    "outlays_tidier = outlays.ix[:, outlays.columns != 'deflator']\n",
    "outlays_tidier = outlays.ix[:, outlays.columns != 'gdp_billions']\n",
    "\n",
    "# write to a .csv\n",
    "outlays_tidier.to_csv('data/outlays_done.csv', index=False)"
   ]
  },
  {
   "cell_type": "code",
   "execution_count": 36,
   "metadata": {
    "collapsed": true
   },
   "outputs": [],
   "source": [
    "# dump to SQL db\n",
    "\n",
    "db_engine = create_engine('sqlite:///data/pandas_data_munging.db')\n",
    "outlays_tidier.to_sql(\n",
    "    'outlays',\n",
    "    db_engine,\n",
    "    if_exists='replace',\n",
    "    index=False\n",
    ")"
   ]
  },
  {
   "cell_type": "markdown",
   "metadata": {
    "slideshow": {
     "slide_type": "slide"
    }
   },
   "source": [
    "# Resources\n",
    "\n",
    "* Python for Data Analysis (by Wes McKinney): http://shop.oreilly.com/product/0636920023784.do\n",
    "* Common Excel Tasks Demonstrated in Pandas: http://pbpython.com/excel-pandas-comp.html\n",
    "* Pandas Cookbook: http://pandas.pydata.org/pandas-docs/stable/cookbook.html\n",
    "* Useful Pandas Snippets: https://gist.github.com/bsweger/e5817488d161f37dcbd2\n",
    "* [Chris Albon's](http://chrisalbon.com/) series of tutorials (scroll down to _Data Wrangling_)\n",
    "* Pandas docs: [how to do SQL operations in Pandas](http://pandas.pydata.org/pandas-docs/stable/comparison_with_sql.html)\n",
    "* Giant panda image courtesy: http://www.clipartlord.com/2015/11/23/free-giant-panda-clip-art-3/"
   ]
  }
 ],
 "metadata": {
  "celltoolbar": "Slideshow",
  "kernelspec": {
   "display_name": "Python 3",
   "language": "python",
   "name": "python3"
  },
  "language_info": {
   "codemirror_mode": {
    "name": "ipython",
    "version": 3
   },
   "file_extension": ".py",
   "mimetype": "text/x-python",
   "name": "python",
   "nbconvert_exporter": "python",
   "pygments_lexer": "ipython3",
   "version": "3.5.2"
  }
 },
 "nbformat": 4,
 "nbformat_minor": 0
}
