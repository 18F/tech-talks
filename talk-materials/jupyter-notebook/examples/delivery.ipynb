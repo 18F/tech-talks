{
 "cells": [
  {
   "cell_type": "markdown",
   "metadata": {
    "slideshow": {
     "slide_type": "slide"
    }
   },
   "source": [
    "# Providing your notebook"
   ]
  },
  {
   "cell_type": "markdown",
   "metadata": {
    "collapsed": true,
    "slideshow": {
     "slide_type": "slide"
    }
   },
   "source": [
    "## It's all JSON"
   ]
  },
  {
   "cell_type": "code",
   "execution_count": 2,
   "metadata": {
    "collapsed": false,
    "slideshow": {
     "slide_type": "fragment"
    }
   },
   "outputs": [
    {
     "name": "stdout",
     "output_type": "stream",
     "text": [
      "{\r\n",
      " \"cells\": [\r\n",
      "  {\r\n",
      "   \"cell_type\": \"markdown\",\r\n",
      "   \"metadata\": {\r\n",
      "    \"slideshow\": {\r\n",
      "     \"slide_type\": \"slide\"\r\n",
      "    }\r\n",
      "   },\r\n",
      "   \"source\": [\r\n",
      "    \"# Cell types\"\r\n",
      "   ]\r\n",
      "  },\r\n",
      "  {\r\n",
      "   \"cell_type\": \"markdown\",\r\n",
      "   \"metadata\": {\r\n",
      "    \"slideshow\": {\r\n",
      "     \"slide_type\": \"slide\"\r\n",
      "    }\r\n",
      "   },\r\n"
     ]
    }
   ],
   "source": [
    "!head -20 tour.ipynb"
   ]
  },
  {
   "cell_type": "markdown",
   "metadata": {
    "slideshow": {
     "slide_type": "slide"
    }
   },
   "source": [
    "# Deliver as HTML"
   ]
  },
  {
   "cell_type": "markdown",
   "metadata": {
    "slideshow": {
     "slide_type": "slide"
    }
   },
   "source": [
    "## nbconvert\n",
    "\n",
    "    $ jupyter nbconvert tour.ipynb\n",
    "    [NbConvertApp] Converting notebook tour.ipynb to html\n",
    "    [NbConvertApp] Writing 219930 bytes to tour.html\n",
    "    \n",
    "[tour.html](tour.html)"
   ]
  },
  {
   "cell_type": "markdown",
   "metadata": {
    "slideshow": {
     "slide_type": "slide"
    }
   },
   "source": [
    "## hosted static\n",
    "\n",
    "### Raw HTML online\n",
    "\n",
    "\n",
    "### [nbviewer](https://github.com/jupyter/nbviewer)\n",
    "\n",
    "### Github\n",
    "\n",
    "\n"
   ]
  },
  {
   "cell_type": "markdown",
   "metadata": {
    "slideshow": {
     "slide_type": "slide"
    }
   },
   "source": [
    "## Download link"
   ]
  },
  {
   "cell_type": "markdown",
   "metadata": {
    "slideshow": {
     "slide_type": "slide"
    }
   },
   "source": [
    "# Live notebooks"
   ]
  },
  {
   "cell_type": "markdown",
   "metadata": {
    "slideshow": {
     "slide_type": "slide"
    }
   },
   "source": [
    "## Hosted live notebooks\n",
    "\n",
    "[Wakari](https://wakari.io/)"
   ]
  },
  {
   "cell_type": "markdown",
   "metadata": {
    "slideshow": {
     "slide_type": "slide"
    }
   },
   "source": [
    "## Notebook server\n",
    "    \n",
    "    $ jupyter notebook\n",
    "    [I 09:28:21.390 NotebookApp] Serving notebooks from local directory: /Users/catherinedevlin/werk/tech-talks/jupyter-notebook\n",
    "    [I 09:28:21.390 NotebookApp] 0 active kernels \n",
    "    [I 09:28:21.390 NotebookApp] The IPython Notebook is running at: http://localhost:8888/\n",
    "    [I 09:28:21.390 NotebookApp] Use Control-C to stop this server and shut down all kernels (twice to skip confirmation).\n",
    "    "
   ]
  },
  {
   "cell_type": "markdown",
   "metadata": {
    "slideshow": {
     "slide_type": "slide"
    }
   },
   "source": [
    "## [tmpnb](https://github.com/jupyter/tmpnb)\n",
    "\n",
    "Service that launches Docker containers \n",
    "\n",
    "[try.jupyter.org](https://try.jupyter.org)"
   ]
  },
  {
   "cell_type": "markdown",
   "metadata": {
    "slideshow": {
     "slide_type": "slide"
    }
   },
   "source": [
    "## [Thebe](https://oreillymedia.github.io/thebe/)"
   ]
  },
  {
   "cell_type": "markdown",
   "metadata": {
    "slideshow": {
     "slide_type": "slide"
    }
   },
   "source": [
    "## S5 slideshow\n",
    "\n",
    "    $ jupyter nbconvert --to slides tour.ipynb\n",
    "    [NbConvertApp] Converting notebook tour.ipynb to slides\n",
    "    [NbConvertApp] Writing 223572 bytes to tour.slides.html\n",
    "    \n",
    "[tour.slides.html](tour.slides.html)"
   ]
  },
  {
   "cell_type": "markdown",
   "metadata": {
    "collapsed": true
   },
   "source": [
    "<table>  <tr><th><th>Description</th></th><th>Power</th>\n",
    "             <th>Ease for user</th><th>Ease for you</th></tr>\n",
    "  <tr><td><a href=\"https://ipython.org/ipython-doc/3/notebook/nbconvert.html\">jupyter nbconvert</a></td><td>Generate static HTML from notebook</td>\n",
    "      <td class=\"rating power\">+</td>\n",
    "      <td class=\"rating user-ease\">+++</td>\n",
    "      <td class=\"rating dev-ease\">++</td>\n",
    "  </tr>\n",
    "  <tr><td><a href=\"http://nbviewer.ipython.org\">nbviewer</a></td><td>Renders from a JSON URL</td>\n",
    "      <td class=\"rating power\">+</td>\n",
    "      <td class=\"rating user-ease\">+++</td>\n",
    "      <td class=\"rating dev-ease\">+++</td>\n",
    "  </tr>\n",
    "  <tr><td>GitHub</td>\n",
    "      <td>Automatic rendering at GitHub URL</td>\n",
    "      <td class=\"rating power\">+</td>\n",
    "      <td class=\"rating user-ease\">+++</td>\n",
    "      <td class=\"rating dev-ease\">++++</td>\n",
    "  </tr>\n",
    "    <tr><td>Download link</td><td>From any rendered notebook</td>\n",
    "      <td class=\"rating power\">++++</td>\n",
    "      <td class=\"rating user-ease\">+</td>\n",
    "      <td class=\"rating dev-ease\">+++</td>\n",
    "  </tr>\n",
    "  <tr><td>Commercially hosted</td><td><a href=\"https://wakari.io/\">Wakari</a>, etc.</td>\n",
    "      <td class=\"rating power\">+++</td>\n",
    "      <td class=\"rating user-ease\">+++</td>\n",
    "      <td class=\"rating dev-ease\">+++</td>\n",
    "  </tr>\n",
    "  \n",
    "    <tr><td><a href=\"http://jupyter-notebook.readthedocs.org/en/latest/public_server.html\">Notebook server</a></td><td></td>\n",
    "      <td class=\"rating power\">+++</td>\n",
    "      <td class=\"rating user-ease\">+++</td>\n",
    "      <td class=\"rating dev-ease\">++</td>\n",
    "  </tr> \n",
    "  \n",
    "  </tr>\n",
    "    <tr><td>[tmpnb](https://github.com/jupyter/tmpnb)\n",
    "            <a href=\"https://try.jupyter.org/\">(try.jupyter.org)</a></td>\n",
    "      <td>Dockerized notebook server per connection</td>\n",
    "      <td class=\"rating power\">+++</td>\n",
    "      <td class=\"rating user-ease\">+++</td>\n",
    "      <td class=\"rating dev-ease\">++</td>\n",
    "  </tr> \n",
    "  \n",
    "    <tr><td><a href=\"https://oreillymedia.github.io/thebe/\">Thebe</a></td><td>Connects HTML to notebook server</td>\n",
    "      <td class=\"rating power\">+++</td>\n",
    "      <td class=\"rating user-ease\">+++</td>\n",
    "      <td class=\"rating dev-ease\">++</td>\n",
    "  </tr>\n",
    "    <tr><td><a href=\"https://ipython.org/ipython-doc/3/notebook/nbconvert.html\">jupyter convert --to slides</a></td><td>S5</td>\n",
    "      <td class=\"rating power\">+</td>\n",
    "      <td class=\"rating user-ease\">++++</td>\n",
    "      <td class=\"rating dev-ease\">+++</td>\n",
    "  </tr>\n",
    "    <tr><td><a href=\"https://github.com/damianavila/RISE\">RISE</a></td><td>S5 with executable cells</td>\n",
    "      <td class=\"rating power\">+++</td>\n",
    "      <td class=\"rating user-ease\">++++</td>\n",
    "      <td class=\"rating dev-ease\">++</td>\n",
    "  </tr>\n",
    "</table>"
   ]
  }
 ],
 "metadata": {
  "celltoolbar": "Slideshow",
  "kernelspec": {
   "display_name": "Python 3",
   "language": "python",
   "name": "python3"
  },
  "language_info": {
   "codemirror_mode": {
    "name": "ipython",
    "version": 3
   },
   "file_extension": ".py",
   "mimetype": "text/x-python",
   "name": "python",
   "nbconvert_exporter": "python",
   "pygments_lexer": "ipython3",
   "version": "3.4.3"
  }
 },
 "nbformat": 4,
 "nbformat_minor": 0
}
