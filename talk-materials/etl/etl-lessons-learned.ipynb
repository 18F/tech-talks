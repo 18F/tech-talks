{
 "cells": [
  {
   "cell_type": "markdown",
   "metadata": {
    "slideshow": {
     "slide_type": "slide"
    }
   },
   "source": [
    "# Everything I Need To Know About ETL, I Learned The Hard Way\n",
    "\n",
    "@catherinedevlin\n",
    "\n",
    "Jan 8, 2018"
   ]
  },
  {
   "cell_type": "markdown",
   "metadata": {
    "slideshow": {
     "slide_type": "slide"
    }
   },
   "source": [
    "# Everything I Need To Know About ETL, I Hope To Learn Eventually"
   ]
  },
  {
   "cell_type": "markdown",
   "metadata": {
    "slideshow": {
     "slide_type": "slide"
    }
   },
   "source": [
    "# ETL\n",
    "\n",
    "## Extract\n",
    "\n",
    "## Transform \n",
    " \n",
    "## Load"
   ]
  },
  {
   "cell_type": "markdown",
   "metadata": {
    "slideshow": {
     "slide_type": "slide"
    }
   },
   "source": [
    "# DATA Act\n",
    "\n",
    "- TTS / Treasury / Booz Allen Hamilton\n",
    "- https://github.com/fedspendingtransparency\n",
    "- @kaitlin and @becky\n",
    "- [explanatory post](https://18f.gsa.gov/2015/06/09/data-act-data-act-explainer/) and [tag](https://18f.gsa.gov/tags/data-act/)"
   ]
  },
  {
   "cell_type": "markdown",
   "metadata": {
    "slideshow": {
     "slide_type": "slide"
    }
   },
   "source": [
    "![data act data flow schematic](images/data_act_flow.jpg)\n",
    "\n",
    "- Often described as between technologies (CSV/XML/etc. to RDBMS)\n",
    "\n",
    "- Reshaping the data usually harder "
   ]
  },
  {
   "cell_type": "markdown",
   "metadata": {
    "slideshow": {
     "slide_type": "slide"
    }
   },
   "source": [
    "# 1. Respect quantity\n",
    "\n",
    "- Out of band so \"no problem\"?\n",
    "- Only need to do it \"once\"?"
   ]
  },
  {
   "cell_type": "markdown",
   "metadata": {
    "slideshow": {
     "slide_type": "slide"
    }
   },
   "source": [
    "# 1a. Do the math"
   ]
  },
  {
   "cell_type": "markdown",
   "metadata": {
    "slideshow": {
     "slide_type": "fragment"
    }
   },
   "source": [
    "1000 rows / 30 seconds"
   ]
  },
  {
   "cell_type": "code",
   "execution_count": 7,
   "metadata": {
    "slideshow": {
     "slide_type": "fragment"
    }
   },
   "outputs": [
    {
     "data": {
      "text/plain": [
       "83.33333333333333"
      ]
     },
     "execution_count": 7,
     "metadata": {},
     "output_type": "execute_result"
    }
   ],
   "source": [
    "(10000000. / (1000. / 30.) / 3600.)"
   ]
  },
  {
   "cell_type": "markdown",
   "metadata": {
    "slideshow": {
     "slide_type": "slide"
    }
   },
   "source": [
    "- Connections breaking\n",
    "- Colliding do-overs\n"
   ]
  },
  {
   "cell_type": "markdown",
   "metadata": {
    "slideshow": {
     "slide_type": "slide"
    }
   },
   "source": [
    "# 1b. Consider set-based"
   ]
  },
  {
   "cell_type": "markdown",
   "metadata": {
    "slideshow": {
     "slide_type": "slide"
    }
   },
   "source": [
    "    for row in rows:\n",
    "        row.name = row.name.strip().upper()\n",
    "    \n",
    "vs\n",
    "\n",
    "    UPDATE my_table\n",
    "    SET    name = UPPER(TRIM(name));\n"
   ]
  },
  {
   "cell_type": "markdown",
   "metadata": {
    "slideshow": {
     "slide_type": "slide"
    }
   },
   "source": [
    "# Set-based options\n",
    "\n",
    "- Raw SQL\n",
    "- Pandas\n",
    "- Django's `.bulk_create`, `.update` (warning: no `.save`)\n",
    "\n",
    "Aim for consistency"
   ]
  },
  {
   "cell_type": "markdown",
   "metadata": {
    "slideshow": {
     "slide_type": "slide"
    }
   },
   "source": [
    "# 2. data model modesty"
   ]
  },
  {
   "cell_type": "markdown",
   "metadata": {
    "slideshow": {
     "slide_type": "slide"
    }
   },
   "source": [
    "# \"Data model should fit API should fit website\"\n",
    "\n",
    "![schematic of original ETL plan](images/original_plan.jpg)"
   ]
  },
  {
   "cell_type": "markdown",
   "metadata": {
    "slideshow": {
     "slide_type": "slide"
    }
   },
   "source": [
    "# Flaw in plan\n",
    "\n",
    "Initial design for website != final design\n",
    "\n",
    "![schematic of unfortunate reality](images/api_masking.jpg)"
   ]
  },
  {
   "cell_type": "markdown",
   "metadata": {
    "slideshow": {
     "slide_type": "slide"
    }
   },
   "source": [
    "![schematic of unfortunate ETL flow](images/alas.jpg)"
   ]
  },
  {
   "cell_type": "markdown",
   "metadata": {
    "slideshow": {
     "slide_type": "slide"
    }
   },
   "source": [
    "Could have had...\n",
    "\n",
    "![masked with views](images/masking_views.jpg)"
   ]
  },
  {
   "cell_type": "markdown",
   "metadata": {
    "slideshow": {
     "slide_type": "fragment"
    }
   },
   "source": [
    "Data models and ETL processes are hard to change"
   ]
  },
  {
   "cell_type": "markdown",
   "metadata": {
    "slideshow": {
     "slide_type": "slide"
    }
   },
   "source": [
    "# 3. Understand mandate"
   ]
  },
  {
   "cell_type": "markdown",
   "metadata": {
    "slideshow": {
     "slide_type": "slide"
    }
   },
   "source": [
    "    city     county         state\n",
    "    -----------------------------\n",
    "    Dayton   Montgomery     OH\n",
    "    Dayton                  OH\n",
    "    Dayton   Montgomery  \n",
    "    Dayton   Mongomery OH   \n",
    "    \n",
    "It hurts to see this.  It's so satisfying to fix this.  It improves the quality of the data."
   ]
  },
  {
   "cell_type": "markdown",
   "metadata": {
    "slideshow": {
     "slide_type": "slide"
    }
   },
   "source": [
    "# 4. Leave breadcrumbs"
   ]
  },
  {
   "cell_type": "markdown",
   "metadata": {
    "slideshow": {
     "slide_type": "slide"
    }
   },
   "source": [
    "grants\n",
    "\n",
    "    id    FAIN     recip_city  recip_state   recip_addr\n",
    "    ------------------------------------------------------\n",
    "    101   ABC123   Dayton      OH            \n",
    "    102   ABC456   Dayton      OH            123 Main\n",
    "    103   XYZ123   Chicago     IL\n",
    "    104   XYZ789   Dayton      OH   \n",
    "    \n",
    "locations\n",
    "\n",
    "    id    city    state   addr    \n",
    "    ------------------------------\n",
    "    1     Dayton  OH      \n",
    "    2     Dayton  OH      123 Main"
   ]
  },
  {
   "cell_type": "markdown",
   "metadata": {
    "slideshow": {
     "slide_type": "slide"
    }
   },
   "source": [
    "Hey, row, \n",
    "\n",
    "Which source row(s) do you come from?\n",
    "\n",
    "- We need to rerun you (idempotency)\n",
    "- We need to confirm you \n",
    "- We need to debug you\n",
    "\n",
    "Slow in human effort, slow in computation"
   ]
  },
  {
   "cell_type": "markdown",
   "metadata": {
    "slideshow": {
     "slide_type": "slide"
    }
   },
   "source": [
    "    id  source_tbl  source_ids   script   commit_id\n",
    "    -----------------------------------------------\n",
    "    1   grants      {101, 104}   etl.py   dd87ad\n",
    "    2   grants      {102}        etl.py   0714a8\n",
    "    \n",
    "(in dest table, or associated table)"
   ]
  },
  {
   "cell_type": "markdown",
   "metadata": {
    "slideshow": {
     "slide_type": "slide"
    }
   },
   "source": [
    "    INSERT INTO locations\n",
    "    SELECT recip_city AS city,\n",
    "           recip_state AS state,\n",
    "           recip_addr AS addr,\n",
    "           ARRAY_AGG(id) AS source_ids\n",
    "    FROM   grants\n",
    "    GROUP BY 1, 2, 3\n",
    "    \n",
    "Also useful: [Common Table Expressions (CTEs) with RETURNING clause](https://rob.conery.io/2015/02/08/inserting-using-new-record-postgres/)"
   ]
  },
  {
   "cell_type": "markdown",
   "metadata": {
    "slideshow": {
     "slide_type": "fragment"
    }
   },
   "source": [
    "https://github.com/18f/tech-talks"
   ]
  }
 ],
 "metadata": {
  "celltoolbar": "Slideshow",
  "kernelspec": {
   "display_name": "Python 3",
   "language": "python",
   "name": "python3"
  },
  "language_info": {
   "codemirror_mode": {
    "name": "ipython",
    "version": 3
   },
   "file_extension": ".py",
   "mimetype": "text/x-python",
   "name": "python",
   "nbconvert_exporter": "python",
   "pygments_lexer": "ipython3",
   "version": "3.6.0"
  }
 },
 "nbformat": 4,
 "nbformat_minor": 2
}
